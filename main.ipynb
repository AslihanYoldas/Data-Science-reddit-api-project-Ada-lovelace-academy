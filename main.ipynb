{
 "cells": [
  {
   "cell_type": "code",
   "execution_count": 1,
   "metadata": {},
   "outputs": [],
   "source": [
    "import requests\n",
    "import pandas as pd\n",
    "from config import constants,api_key\n",
    "import module"
   ]
  },
  {
   "cell_type": "code",
   "execution_count": 5,
   "metadata": {},
   "outputs": [],
   "source": [
    "POPULAR_POST_ENDPOINT = \"/getTopPopularPosts\""
   ]
  },
  {
   "cell_type": "markdown",
   "metadata": {},
   "source": [
    "## Making API call to Reddit api"
   ]
  },
  {
   "cell_type": "code",
   "execution_count": null,
   "metadata": {},
   "outputs": [],
   "source": [
    "\n",
    "querystring = {\"time\":\"year\"}# required parameter\n",
    "headers = {\n",
    "\t\"X-RapidAPI-Key\": api_key.RAPID_API_KEY,\n",
    "\t\"X-RapidAPI-Host\": constants.RAPID_API_HOST\n",
    "}\n",
    "response = requests.get(constants.BASE_URL + POPULAR_POST_ENDPOINT, headers=headers, params=querystring)\n"
   ]
  },
  {
   "cell_type": "code",
   "execution_count": 7,
   "metadata": {},
   "outputs": [],
   "source": [
    "data_popular = response.json()"
   ]
  },
  {
   "cell_type": "code",
   "execution_count": null,
   "metadata": {},
   "outputs": [],
   "source": [
    "for post in data_popular['data']['posts']:\n",
    "    print(post['id'])\n",
    "    print(post['title'])\n",
    "    print(post['numComments'])\n",
    "    print(post['score'])\n",
    "    print(post['author'])\n",
    "    print(post['authorId'])\n",
    "    print(post['goldCount'])\n",
    "    print(post['domain'])\n",
    "    print(\"\\n\")"
   ]
  },
  {
   "cell_type": "markdown",
   "metadata": {},
   "source": [
    "## Turning into data frame"
   ]
  },
  {
   "cell_type": "code",
   "execution_count": 37,
   "metadata": {},
   "outputs": [],
   "source": [
    "popular_posts =[]\n",
    "for post in data_popular['data']['posts']:\n",
    "    popular_post= {\n",
    "        \"id\":post['id'],\n",
    "        \"title\":post['title'],\n",
    "        \"numComments\":post['numComments'],\n",
    "        \"score\":post['score'],\n",
    "        \"author\":post['author'],\n",
    "        \"authorId\":post['authorId'],\n",
    "        \"goldCount\":post['goldCount'],\n",
    "        \"domain\":post['domain']}\n",
    "    popular_posts.append(popular_post)\n",
    "\n",
    "popular_posts_df = pd.DataFrame(popular_posts)"
   ]
  },
  {
   "cell_type": "code",
   "execution_count": 4,
   "metadata": {},
   "outputs": [
    {
     "data": {
      "text/html": [
       "<div>\n",
       "<style scoped>\n",
       "    .dataframe tbody tr th:only-of-type {\n",
       "        vertical-align: middle;\n",
       "    }\n",
       "\n",
       "    .dataframe tbody tr th {\n",
       "        vertical-align: top;\n",
       "    }\n",
       "\n",
       "    .dataframe thead th {\n",
       "        text-align: right;\n",
       "    }\n",
       "</style>\n",
       "<table border=\"1\" class=\"dataframe\">\n",
       "  <thead>\n",
       "    <tr style=\"text-align: right;\">\n",
       "      <th></th>\n",
       "      <th>id</th>\n",
       "      <th>title</th>\n",
       "      <th>numComments</th>\n",
       "      <th>score</th>\n",
       "      <th>author</th>\n",
       "      <th>authorId</th>\n",
       "      <th>goldCount</th>\n",
       "      <th>domain</th>\n",
       "    </tr>\n",
       "  </thead>\n",
       "  <tbody>\n",
       "    <tr>\n",
       "      <th>0</th>\n",
       "      <td>t3_11ia0od</td>\n",
       "      <td>Hi, I’m Keanu Reeves, AMA</td>\n",
       "      <td>32997</td>\n",
       "      <td>290221</td>\n",
       "      <td>lionsgate</td>\n",
       "      <td>t2_2yjg9dt0</td>\n",
       "      <td>21</td>\n",
       "      <td>i.redd.it</td>\n",
       "    </tr>\n",
       "    <tr>\n",
       "      <th>1</th>\n",
       "      <td>t3_187p59c</td>\n",
       "      <td>YSK MTN DEW GAME FUEL is back! Partnering with...</td>\n",
       "      <td>0</td>\n",
       "      <td>0</td>\n",
       "      <td>MTNDEWGaming</td>\n",
       "      <td>t2_t4otn2sq</td>\n",
       "      <td>0</td>\n",
       "      <td>mountaindew.com</td>\n",
       "    </tr>\n",
       "    <tr>\n",
       "      <th>2</th>\n",
       "      <td>t3_144f6xm</td>\n",
       "      <td>📣 Apollo will close down on June 30th. Reddit’...</td>\n",
       "      <td>15438</td>\n",
       "      <td>220416</td>\n",
       "      <td>iamthatis</td>\n",
       "      <td>t2_4mwol</td>\n",
       "      <td>354</td>\n",
       "      <td>self.apolloapp</td>\n",
       "    </tr>\n",
       "    <tr>\n",
       "      <th>3</th>\n",
       "      <td>t3_17xjfyu</td>\n",
       "      <td>Left the office &amp; found the neighbors cat in m...</td>\n",
       "      <td>3475</td>\n",
       "      <td>218627</td>\n",
       "      <td>go_fight_kickass</td>\n",
       "      <td>t2_12g6zr</td>\n",
       "      <td>0</td>\n",
       "      <td>i.redd.it</td>\n",
       "    </tr>\n",
       "    <tr>\n",
       "      <th>4</th>\n",
       "      <td>t3_10lcvuy</td>\n",
       "      <td>Trust the process guys</td>\n",
       "      <td>4228</td>\n",
       "      <td>218095</td>\n",
       "      <td>ThoumasTurbando</td>\n",
       "      <td>t2_usejv7ts</td>\n",
       "      <td>3</td>\n",
       "      <td>v.redd.it</td>\n",
       "    </tr>\n",
       "  </tbody>\n",
       "</table>\n",
       "</div>"
      ],
      "text/plain": [
       "           id                                              title  numComments  \\\n",
       "0  t3_11ia0od                          Hi, I’m Keanu Reeves, AMA        32997   \n",
       "1  t3_187p59c  YSK MTN DEW GAME FUEL is back! Partnering with...            0   \n",
       "2  t3_144f6xm  📣 Apollo will close down on June 30th. Reddit’...        15438   \n",
       "3  t3_17xjfyu  Left the office & found the neighbors cat in m...         3475   \n",
       "4  t3_10lcvuy                             Trust the process guys         4228   \n",
       "\n",
       "    score            author     authorId  goldCount           domain  \n",
       "0  290221         lionsgate  t2_2yjg9dt0         21        i.redd.it  \n",
       "1       0      MTNDEWGaming  t2_t4otn2sq          0  mountaindew.com  \n",
       "2  220416         iamthatis     t2_4mwol        354   self.apolloapp  \n",
       "3  218627  go_fight_kickass    t2_12g6zr          0        i.redd.it  \n",
       "4  218095   ThoumasTurbando  t2_usejv7ts          3        v.redd.it  "
      ]
     },
     "execution_count": 4,
     "metadata": {},
     "output_type": "execute_result"
    }
   ],
   "source": [
    "popular_posts_df.head()"
   ]
  },
  {
   "cell_type": "code",
   "execution_count": 41,
   "metadata": {},
   "outputs": [],
   "source": [
    "# Saving csv file\n",
    "popular_posts_df.to_csv(\"popular_posts.csv\",index=False)"
   ]
  },
  {
   "cell_type": "markdown",
   "metadata": {},
   "source": [
    "## Get post details"
   ]
  },
  {
   "cell_type": "code",
   "execution_count": 44,
   "metadata": {},
   "outputs": [],
   "source": [
    "POST_DETAILS_ENDPOINT = \"/getPostDetails\"\n",
    "\n",
    "querystring = {\"post_id\":\"t3_144f6xm\"}\n",
    "\n",
    "headers = {\n",
    "\t\"X-RapidAPI-Key\": api_key.RAPID_API_KEY,\n",
    "\t\"X-RapidAPI-Host\": constants.RAPID_API_HOST\n",
    "}\n",
    "\n",
    "response = requests.get(constants.BASE_URL+POST_DETAILS_ENDPOINT, headers=headers, params=querystring)\n",
    "\n",
    "post_detail = response.json()"
   ]
  },
  {
   "cell_type": "code",
   "execution_count": 114,
   "metadata": {},
   "outputs": [],
   "source": [
    "post_text=post_detail['data']['media']['richtextContent']['document']"
   ]
  },
  {
   "cell_type": "code",
   "execution_count": 99,
   "metadata": {},
   "outputs": [
    {
     "name": "stdout",
     "output_type": "stream",
     "text": [
      "{'c': [{'e': 'text', 't': \"I don't want Reddit slandering me to internal employees or public people by saying I threatened them when they reality is that they immediately apologized for misunderstanding me.\"}], 'e': 'par'}\n"
     ]
    }
   ],
   "source": [
    "# Gettin Key error because of nested text\n",
    "# Trying to understand hierachy\n",
    "for line in post_text:\n",
    "    try:\n",
    "        a =line['c'][0]['t']\n",
    "    except KeyError:\n",
    "        for nested_line in line['c'][0]['c']:\n",
    "            try:\n",
    "                a= nested_line['t']\n",
    "            except:\n",
    "                print(nested_line)\n",
    "                continue\n",
    "        continue"
   ]
  },
  {
   "cell_type": "code",
   "execution_count": null,
   "metadata": {},
   "outputs": [],
   "source": [
    "# Getting the full post text\n",
    "for line in post_text:\n",
    "    try:\n",
    "        print(line['c'][0]['t'])\n",
    "    except KeyError:\n",
    "        for nested_line in line['c'][0]['c']:\n",
    "            try:\n",
    "                print( nested_line['t'])\n",
    "            except KeyError:\n",
    "                print(nested_line['c'][0]['t'])\n",
    "                continue\n",
    "        continue"
   ]
  },
  {
   "cell_type": "code",
   "execution_count": 118,
   "metadata": {},
   "outputs": [],
   "source": [
    "# getting the whole text as a string\n",
    "post_string=\"\"\n",
    "for line in post_text:\n",
    "    try:\n",
    "        post_string+=line['c'][0]['t']\n",
    "    except KeyError:\n",
    "        for nested_line in line['c'][0]['c']:\n",
    "            try:\n",
    "                post_string+= nested_line['t']\n",
    "            except KeyError:\n",
    "                post_string+=nested_line['c'][0]['t']\n",
    "                continue\n",
    "        continue"
   ]
  },
  {
   "cell_type": "code",
   "execution_count": 5,
   "metadata": {},
   "outputs": [],
   "source": [
    "popular_with_text_df =pd.read_csv('popular_reddit_posts_with_whole_text.csv')"
   ]
  },
  {
   "cell_type": "code",
   "execution_count": 7,
   "metadata": {},
   "outputs": [
    {
     "data": {
      "text/html": [
       "<div>\n",
       "<style scoped>\n",
       "    .dataframe tbody tr th:only-of-type {\n",
       "        vertical-align: middle;\n",
       "    }\n",
       "\n",
       "    .dataframe tbody tr th {\n",
       "        vertical-align: top;\n",
       "    }\n",
       "\n",
       "    .dataframe thead th {\n",
       "        text-align: right;\n",
       "    }\n",
       "</style>\n",
       "<table border=\"1\" class=\"dataframe\">\n",
       "  <thead>\n",
       "    <tr style=\"text-align: right;\">\n",
       "      <th></th>\n",
       "      <th>id</th>\n",
       "      <th>title</th>\n",
       "      <th>numComments</th>\n",
       "      <th>score</th>\n",
       "      <th>author</th>\n",
       "      <th>authorId</th>\n",
       "      <th>goldCount</th>\n",
       "      <th>domain</th>\n",
       "      <th>post_text</th>\n",
       "    </tr>\n",
       "  </thead>\n",
       "  <tbody>\n",
       "    <tr>\n",
       "      <th>0</th>\n",
       "      <td>t3_11ia0od</td>\n",
       "      <td>Hi, I’m Keanu Reeves, AMA</td>\n",
       "      <td>32997</td>\n",
       "      <td>290237</td>\n",
       "      <td>lionsgate</td>\n",
       "      <td>t2_2yjg9dt0</td>\n",
       "      <td>21</td>\n",
       "      <td>i.redd.it</td>\n",
       "      <td>NaN</td>\n",
       "    </tr>\n",
       "    <tr>\n",
       "      <th>1</th>\n",
       "      <td>t3_17xhbye</td>\n",
       "      <td>Score MTN DEW® GAME FUEL® and prepare to take ...</td>\n",
       "      <td>0</td>\n",
       "      <td>119</td>\n",
       "      <td>MTNDEWGaming</td>\n",
       "      <td>t2_t4otn2sq</td>\n",
       "      <td>0</td>\n",
       "      <td>mountaindew.com</td>\n",
       "      <td>NaN</td>\n",
       "    </tr>\n",
       "    <tr>\n",
       "      <th>2</th>\n",
       "      <td>t3_144f6xm</td>\n",
       "      <td>📣 Apollo will close down on June 30th. Reddit’...</td>\n",
       "      <td>15438</td>\n",
       "      <td>220413</td>\n",
       "      <td>iamthatis</td>\n",
       "      <td>t2_4mwol</td>\n",
       "      <td>354</td>\n",
       "      <td>self.apolloapp</td>\n",
       "      <td>Hey all,It's been an amazing run thanks to all...</td>\n",
       "    </tr>\n",
       "    <tr>\n",
       "      <th>3</th>\n",
       "      <td>t3_17xjfyu</td>\n",
       "      <td>Left the office &amp; found the neighbors cat in m...</td>\n",
       "      <td>3475</td>\n",
       "      <td>218630</td>\n",
       "      <td>go_fight_kickass</td>\n",
       "      <td>t2_12g6zr</td>\n",
       "      <td>0</td>\n",
       "      <td>i.redd.it</td>\n",
       "      <td>NaN</td>\n",
       "    </tr>\n",
       "    <tr>\n",
       "      <th>4</th>\n",
       "      <td>t3_10lcvuy</td>\n",
       "      <td>Trust the process guys</td>\n",
       "      <td>4228</td>\n",
       "      <td>218095</td>\n",
       "      <td>ThoumasTurbando</td>\n",
       "      <td>t2_usejv7ts</td>\n",
       "      <td>3</td>\n",
       "      <td>v.redd.it</td>\n",
       "      <td>NaN</td>\n",
       "    </tr>\n",
       "  </tbody>\n",
       "</table>\n",
       "</div>"
      ],
      "text/plain": [
       "           id                                              title  numComments  \\\n",
       "0  t3_11ia0od                          Hi, I’m Keanu Reeves, AMA        32997   \n",
       "1  t3_17xhbye  Score MTN DEW® GAME FUEL® and prepare to take ...            0   \n",
       "2  t3_144f6xm  📣 Apollo will close down on June 30th. Reddit’...        15438   \n",
       "3  t3_17xjfyu  Left the office & found the neighbors cat in m...         3475   \n",
       "4  t3_10lcvuy                             Trust the process guys         4228   \n",
       "\n",
       "    score            author     authorId  goldCount           domain  \\\n",
       "0  290237         lionsgate  t2_2yjg9dt0         21        i.redd.it   \n",
       "1     119      MTNDEWGaming  t2_t4otn2sq          0  mountaindew.com   \n",
       "2  220413         iamthatis     t2_4mwol        354   self.apolloapp   \n",
       "3  218630  go_fight_kickass    t2_12g6zr          0        i.redd.it   \n",
       "4  218095   ThoumasTurbando  t2_usejv7ts          3        v.redd.it   \n",
       "\n",
       "                                           post_text  \n",
       "0                                                NaN  \n",
       "1                                                NaN  \n",
       "2  Hey all,It's been an amazing run thanks to all...  \n",
       "3                                                NaN  \n",
       "4                                                NaN  "
      ]
     },
     "execution_count": 7,
     "metadata": {},
     "output_type": "execute_result"
    }
   ],
   "source": [
    "popular_with_text_df.head()"
   ]
  },
  {
   "cell_type": "markdown",
   "metadata": {},
   "source": [
    "### Trying to get other posts' whole text"
   ]
  },
  {
   "cell_type": "code",
   "execution_count": 130,
   "metadata": {},
   "outputs": [],
   "source": [
    "querystring = {\"post_id\":\"t3_13n65xa\"}\n",
    "\n",
    "headers = {\n",
    "\t\"X-RapidAPI-Key\": api_key.RAPID_API_KEY,\n",
    "\t\"X-RapidAPI-Host\": constants.RAPID_API_HOST\n",
    "}\n",
    "\n",
    "response_2 = requests.get(constants.BASE_URL+POST_DETAILS_END_POINT, headers=headers, params=querystring)\n",
    "\n",
    "post_detail_2 = response_2.json()"
   ]
  },
  {
   "cell_type": "code",
   "execution_count": 131,
   "metadata": {},
   "outputs": [
    {
     "data": {
      "text/plain": [
       "{'obfuscated': None,\n",
       " 'richtextContent': {'document': []},\n",
       " 'rteMode': 'richtext',\n",
       " 'hlsUrl': 'https://v.redd.it/hh4izuoxm11b1/HLSPlaylist.m3u8?a=1706010255%2CN2VlYmEwM2Q1Njg2Y2M0YTcxOTc2NmMxMjdmZjc1MzYzMTZiZTZlMjVlOTNhMDUxM2ZkM2EzYWQyYWEwNzkwMg%3D%3D&v=1&f=sd',\n",
       " 'dashUrl': 'https://v.redd.it/hh4izuoxm11b1/DASHPlaylist.mpd?a=1706010255%2CMmQxYTc1NzE5ZDI1MGQ1NTM1NmE3NmVkN2RlM2Y3NmY4OTMyZmRjYzUxYWJiOGIwZGUxN2JmZDBmYjkwYmRiZg%3D%3D&v=1&f=sd',\n",
       " 'isGif': False,\n",
       " 'scrubberThumbSource': 'https://v.redd.it/hh4izuoxm11b1/DASH_96.mp4',\n",
       " 'posterUrl': 'https://external-preview.redd.it/rZ2yn4NXCxL11fG4lgBZOcUkyZPfDdcZZFOFwmvLAdA.png?width=640&crop=smart&format=pjpg&auto=webp&s=9914940de84db96f70ebc6577015a85fcddeb66f',\n",
       " 'width': 402,\n",
       " 'height': 720,\n",
       " 'type': 'video'}"
      ]
     },
     "execution_count": 131,
     "metadata": {},
     "output_type": "execute_result"
    }
   ],
   "source": [
    "post_detail_2['data']['media']"
   ]
  },
  {
   "cell_type": "markdown",
   "metadata": {},
   "source": [
    "### post text is usually empty because of that it returns nan"
   ]
  },
  {
   "cell_type": "code",
   "execution_count": 2,
   "metadata": {},
   "outputs": [],
   "source": [
    "SUBREDDIT_POSTS_ENDPOINT = \"/getPostsBySubreddit\"\n",
    "querystring = {\"subreddit\":\"datascience\",\"sort\":\"new\"}\n",
    "\n",
    "headers = {\n",
    "\t\"X-RapidAPI-Key\": api_key.RAPID_API_KEY,\n",
    "\t\"X-RapidAPI-Host\": constants.RAPID_API_HOST\n",
    "}\n",
    "\n",
    "response = requests.get(constants.BASE_URL+SUBREDDIT_POSTS_ENDPOINT, headers=headers, params=querystring)\n",
    "\n"
   ]
  },
  {
   "cell_type": "code",
   "execution_count": 3,
   "metadata": {},
   "outputs": [],
   "source": [
    "data_science_posts = response.json()"
   ]
  },
  {
   "cell_type": "code",
   "execution_count": 4,
   "metadata": {},
   "outputs": [],
   "source": [
    "ds_posts =[]\n",
    "for post in data_science_posts['data']['posts']:\n",
    "    ds_post= {\n",
    "        \"id\":post['id'],\n",
    "        \"title\":post['title'],\n",
    "        \"numComments\":post['numComments'],\n",
    "        \"score\":post['score'],\n",
    "        \"author\":post['author'],\n",
    "        \"authorId\":post['authorId'],\n",
    "        \"goldCount\":post['goldCount'],\n",
    "        \"domain\":post['domain']}\n",
    "    ds_posts.append(ds_post)\n",
    "\n",
    "ds_posts_df = pd.DataFrame(ds_posts)"
   ]
  },
  {
   "cell_type": "code",
   "execution_count": 5,
   "metadata": {},
   "outputs": [
    {
     "data": {
      "text/html": [
       "<div>\n",
       "<style scoped>\n",
       "    .dataframe tbody tr th:only-of-type {\n",
       "        vertical-align: middle;\n",
       "    }\n",
       "\n",
       "    .dataframe tbody tr th {\n",
       "        vertical-align: top;\n",
       "    }\n",
       "\n",
       "    .dataframe thead th {\n",
       "        text-align: right;\n",
       "    }\n",
       "</style>\n",
       "<table border=\"1\" class=\"dataframe\">\n",
       "  <thead>\n",
       "    <tr style=\"text-align: right;\">\n",
       "      <th></th>\n",
       "      <th>id</th>\n",
       "      <th>title</th>\n",
       "      <th>numComments</th>\n",
       "      <th>score</th>\n",
       "      <th>author</th>\n",
       "      <th>authorId</th>\n",
       "      <th>goldCount</th>\n",
       "      <th>domain</th>\n",
       "    </tr>\n",
       "  </thead>\n",
       "  <tbody>\n",
       "    <tr>\n",
       "      <th>0</th>\n",
       "      <td>t3_18qtaid</td>\n",
       "      <td>Probability reference book for data science pr...</td>\n",
       "      <td>19</td>\n",
       "      <td>50</td>\n",
       "      <td>HStuart18</td>\n",
       "      <td>t2_xfx8ms4</td>\n",
       "      <td>0</td>\n",
       "      <td>self.datascience</td>\n",
       "    </tr>\n",
       "    <tr>\n",
       "      <th>1</th>\n",
       "      <td>t3_18qrkqj</td>\n",
       "      <td>Have an upcoming interview for a data analyst ...</td>\n",
       "      <td>23</td>\n",
       "      <td>21</td>\n",
       "      <td>Impossible-Cry-495</td>\n",
       "      <td>t2_903k40ag</td>\n",
       "      <td>0</td>\n",
       "      <td>self.datascience</td>\n",
       "    </tr>\n",
       "    <tr>\n",
       "      <th>2</th>\n",
       "      <td>t3_18qbsme</td>\n",
       "      <td>Weekly Entering &amp; Transitioning - Thread 25 De...</td>\n",
       "      <td>5</td>\n",
       "      <td>6</td>\n",
       "      <td>AutoModerator</td>\n",
       "      <td>t2_6l4z3</td>\n",
       "      <td>0</td>\n",
       "      <td>self.datascience</td>\n",
       "    </tr>\n",
       "    <tr>\n",
       "      <th>3</th>\n",
       "      <td>t3_18q5xz2</td>\n",
       "      <td>Should I work over Christmas to fix my code, o...</td>\n",
       "      <td>47</td>\n",
       "      <td>48</td>\n",
       "      <td>ManagementObvious631</td>\n",
       "      <td>t2_9rp766xc1</td>\n",
       "      <td>0</td>\n",
       "      <td>self.datascience</td>\n",
       "    </tr>\n",
       "    <tr>\n",
       "      <th>4</th>\n",
       "      <td>t3_18q5vq6</td>\n",
       "      <td>PyTorch LSTM for time series</td>\n",
       "      <td>29</td>\n",
       "      <td>15</td>\n",
       "      <td>medylan</td>\n",
       "      <td>t2_44oxrfns</td>\n",
       "      <td>0</td>\n",
       "      <td>self.datascience</td>\n",
       "    </tr>\n",
       "  </tbody>\n",
       "</table>\n",
       "</div>"
      ],
      "text/plain": [
       "           id                                              title  numComments  \\\n",
       "0  t3_18qtaid  Probability reference book for data science pr...           19   \n",
       "1  t3_18qrkqj  Have an upcoming interview for a data analyst ...           23   \n",
       "2  t3_18qbsme  Weekly Entering & Transitioning - Thread 25 De...            5   \n",
       "3  t3_18q5xz2  Should I work over Christmas to fix my code, o...           47   \n",
       "4  t3_18q5vq6                       PyTorch LSTM for time series           29   \n",
       "\n",
       "   score                author      authorId  goldCount            domain  \n",
       "0     50             HStuart18    t2_xfx8ms4          0  self.datascience  \n",
       "1     21    Impossible-Cry-495   t2_903k40ag          0  self.datascience  \n",
       "2      6         AutoModerator      t2_6l4z3          0  self.datascience  \n",
       "3     48  ManagementObvious631  t2_9rp766xc1          0  self.datascience  \n",
       "4     15               medylan   t2_44oxrfns          0  self.datascience  "
      ]
     },
     "execution_count": 5,
     "metadata": {},
     "output_type": "execute_result"
    }
   ],
   "source": [
    "ds_posts_df.head()"
   ]
  },
  {
   "cell_type": "code",
   "execution_count": 9,
   "metadata": {},
   "outputs": [],
   "source": [
    "ds_posts_df.to_csv(\"data_science_posts.csv\", index=False)"
   ]
  },
  {
   "cell_type": "code",
   "execution_count": 14,
   "metadata": {},
   "outputs": [],
   "source": [
    "def get_post_text(post_text):\n",
    "    post_string=\"\"\n",
    "    for line in post_text:\n",
    "        post_string+=line['c'][0]['t']\n",
    "    return post_string"
   ]
  },
  {
   "cell_type": "code",
   "execution_count": 15,
   "metadata": {},
   "outputs": [],
   "source": [
    "post_1 = data_science_posts['data']['posts'][1]"
   ]
  },
  {
   "cell_type": "code",
   "execution_count": 16,
   "metadata": {},
   "outputs": [
    {
     "data": {
      "text/plain": [
       "'I have an interview at a company called Airbus. This would be my first interview specifically for a data analyst role. What should I expect?'"
      ]
     },
     "execution_count": 16,
     "metadata": {},
     "output_type": "execute_result"
    }
   ],
   "source": [
    "get_post_text(post_1['media']['richtextContent']['document'])"
   ]
  },
  {
   "cell_type": "code",
   "execution_count": 17,
   "metadata": {},
   "outputs": [
    {
     "ename": "KeyError",
     "evalue": "'t'",
     "output_type": "error",
     "traceback": [
      "\u001b[1;31m---------------------------------------------------------------------------\u001b[0m",
      "\u001b[1;31mKeyError\u001b[0m                                  Traceback (most recent call last)",
      "Cell \u001b[1;32mIn[17], line 1\u001b[0m\n\u001b[1;32m----> 1\u001b[0m post_texts \u001b[38;5;241m=\u001b[39m [get_post_text(post[\u001b[38;5;124m'\u001b[39m\u001b[38;5;124mmedia\u001b[39m\u001b[38;5;124m'\u001b[39m][\u001b[38;5;124m'\u001b[39m\u001b[38;5;124mrichtextContent\u001b[39m\u001b[38;5;124m'\u001b[39m][\u001b[38;5;124m'\u001b[39m\u001b[38;5;124mdocument\u001b[39m\u001b[38;5;124m'\u001b[39m]) \u001b[38;5;28;01mfor\u001b[39;00m post \u001b[38;5;129;01min\u001b[39;00m data_science_posts[\u001b[38;5;124m'\u001b[39m\u001b[38;5;124mdata\u001b[39m\u001b[38;5;124m'\u001b[39m][\u001b[38;5;124m'\u001b[39m\u001b[38;5;124mposts\u001b[39m\u001b[38;5;124m'\u001b[39m]]\n",
      "Cell \u001b[1;32mIn[17], line 1\u001b[0m, in \u001b[0;36m<listcomp>\u001b[1;34m(.0)\u001b[0m\n\u001b[1;32m----> 1\u001b[0m post_texts \u001b[38;5;241m=\u001b[39m [\u001b[43mget_post_text\u001b[49m\u001b[43m(\u001b[49m\u001b[43mpost\u001b[49m\u001b[43m[\u001b[49m\u001b[38;5;124;43m'\u001b[39;49m\u001b[38;5;124;43mmedia\u001b[39;49m\u001b[38;5;124;43m'\u001b[39;49m\u001b[43m]\u001b[49m\u001b[43m[\u001b[49m\u001b[38;5;124;43m'\u001b[39;49m\u001b[38;5;124;43mrichtextContent\u001b[39;49m\u001b[38;5;124;43m'\u001b[39;49m\u001b[43m]\u001b[49m\u001b[43m[\u001b[49m\u001b[38;5;124;43m'\u001b[39;49m\u001b[38;5;124;43mdocument\u001b[39;49m\u001b[38;5;124;43m'\u001b[39;49m\u001b[43m]\u001b[49m\u001b[43m)\u001b[49m \u001b[38;5;28;01mfor\u001b[39;00m post \u001b[38;5;129;01min\u001b[39;00m data_science_posts[\u001b[38;5;124m'\u001b[39m\u001b[38;5;124mdata\u001b[39m\u001b[38;5;124m'\u001b[39m][\u001b[38;5;124m'\u001b[39m\u001b[38;5;124mposts\u001b[39m\u001b[38;5;124m'\u001b[39m]]\n",
      "Cell \u001b[1;32mIn[14], line 4\u001b[0m, in \u001b[0;36mget_post_text\u001b[1;34m(post_text)\u001b[0m\n\u001b[0;32m      2\u001b[0m post_string\u001b[38;5;241m=\u001b[39m\u001b[38;5;124m\"\u001b[39m\u001b[38;5;124m\"\u001b[39m\n\u001b[0;32m      3\u001b[0m \u001b[38;5;28;01mfor\u001b[39;00m line \u001b[38;5;129;01min\u001b[39;00m post_text:\n\u001b[1;32m----> 4\u001b[0m     post_string\u001b[38;5;241m+\u001b[39m\u001b[38;5;241m=\u001b[39m\u001b[43mline\u001b[49m\u001b[43m[\u001b[49m\u001b[38;5;124;43m'\u001b[39;49m\u001b[38;5;124;43mc\u001b[39;49m\u001b[38;5;124;43m'\u001b[39;49m\u001b[43m]\u001b[49m\u001b[43m[\u001b[49m\u001b[38;5;241;43m0\u001b[39;49m\u001b[43m]\u001b[49m\u001b[43m[\u001b[49m\u001b[38;5;124;43m'\u001b[39;49m\u001b[38;5;124;43mt\u001b[39;49m\u001b[38;5;124;43m'\u001b[39;49m\u001b[43m]\u001b[49m\n\u001b[0;32m      5\u001b[0m \u001b[38;5;28;01mreturn\u001b[39;00m post_string\n",
      "\u001b[1;31mKeyError\u001b[0m: 't'"
     ]
    }
   ],
   "source": [
    "post_texts = [get_post_text(post['media']['richtextContent']['document']) for post in data_science_posts['data']['posts']]\n"
   ]
  },
  {
   "cell_type": "code",
   "execution_count": 18,
   "metadata": {},
   "outputs": [
    {
     "name": "stdout",
     "output_type": "stream",
     "text": [
      "[{'c': [{'e': 'text', 't': \"Hi all, I'd like to rehash my understanding of the fundamentals of probability theory. I'm trying to find a probability book that meets the following criteria:\"}], 'e': 'par'}, {'c': [{'c': [{'c': [{'e': 'text', 't': 'Motivates different concepts and does not just show definition-proof-definition-proof'}], 'e': 'par'}], 'e': 'li'}, {'c': [{'c': [{'e': 'text', 't': 'Is complete in that it covers all the fundamentals of probability'}], 'e': 'par'}], 'e': 'li'}, {'c': [{'c': [{'e': 'text', 't': 'Is not overtly pro/anti bayesian'}], 'e': 'par'}], 'e': 'li'}, {'c': [{'c': [{'e': 'text', 't': \"Suitable for a data science professional with a mathematics undergrad but hasn't studied in several years\"}], 'e': 'par'}], 'e': 'li'}, {'c': [{'c': [{'e': 'text', 't': 'Is suitable for self-study (problem solutions must be available in the book or online)'}], 'e': 'par'}], 'e': 'li'}], 'e': 'list', 'o': False}, {'c': [{'e': 'text', 't': 'I skimmed across Probability by Shiryaev but it was a bit too definition-proof for my liking and too abstract. I am looking for a dedicated probability book and will then move to a dedicated statistics reference book. Cheers'}], 'e': 'par'}]\n",
      "[{'c': [{'e': 'text', 't': 'I have an interview at a company called Airbus. This would be my first interview specifically for a data analyst role. What should I expect?'}], 'e': 'par'}]\n",
      "[{'c': [{'e': 'text', 't': \"Welcome to this week's entering & transitioning thread! This thread is for any questions about getting started, studying, or transitioning into the data science field. Topics include:\"}], 'e': 'par'}, {'c': [{'c': [{'c': [{'e': 'text', 't': 'Learning resources (e.g. books, tutorials, videos)'}], 'e': 'par'}], 'e': 'li'}, {'c': [{'c': [{'e': 'text', 't': 'Traditional education (e.g. schools, degrees, electives)'}], 'e': 'par'}], 'e': 'li'}, {'c': [{'c': [{'e': 'text', 't': 'Alternative education (e.g. online courses, bootcamps)'}], 'e': 'par'}], 'e': 'li'}, {'c': [{'c': [{'e': 'text', 't': 'Job search questions (e.g. resumes, applying, career prospects)'}], 'e': 'par'}], 'e': 'li'}, {'c': [{'c': [{'e': 'text', 't': 'Elementary questions (e.g. where to start, what next)'}], 'e': 'par'}], 'e': 'li'}], 'e': 'list', 'o': False}, {'c': [{'e': 'text', 't': 'While you wait for answers from the community, check out the '}, {'e': 'link', 'u': 'https://www.reddit.com/r/datascience/wiki/frequently-asked-questions', 't': 'FAQ'}, {'e': 'text', 't': ' and Resources pages on our wiki. You can also search for answers in '}, {'e': 'link', 'u': 'https://www.reddit.com/r/datascience/search?q=weekly%20thread&restrict_sr=1&sort=new', 't': 'past weekly threads'}, {'e': 'text', 't': '.'}], 'e': 'par'}]\n",
      "[{'c': [{'e': 'text', 't': 'Edit: changed a date.'}], 'e': 'par'}, {'c': [{'e': 'text', 't': \"It's a long story, but basically I started a new role (3 months in) and my code is giving incorrect results in a in-production model meaning the next inference run will be delayed a couple of weeks. I feel a responsibility for my code and I did unit test it in the training environment but it gives incorrect results in the production environment.\"}], 'e': 'par'}, {'c': [{'e': 'text', 't': \"Should I work over my Christmas break to fix it, so the project stays on track, or is it ok for me to have the opinion that the process and project plan should allow time for changes to have issues in the production environment and that the three hours I was given to get the code running wasn't enough and that's not necessarily my fault.\"}], 'e': 'par'}, {'c': [{'e': 'text', 't': \"If I don't fix it by the 28th of Dec the Dev who runs the spark jobs in on holiday for a couple of weeks so the inference will be delayed. I'm due back to work on Jan 3rd.\"}], 'e': 'par'}, {'c': [{'e': 'text', 't': 'What would you do?'}], 'e': 'par'}]\n",
      "[{'c': [{'e': 'text', 't': 'Does anyone have a good resource or example project doing this? Most things I find only do one step ahead prediction and I want to find some information on how to properly do multi step autoregressive forecasts.'}], 'e': 'par'}, {'c': [{'e': 'text', 't': 'If it also has information on how to do Teacher Forcing and no Teacher Forcing that would be useful to me as well.'}], 'e': 'par'}, {'c': [{'e': 'text', 't': 'Thank you for the help!'}], 'e': 'par'}]\n",
      "[]\n",
      "[{'c': [{'e': 'text', 't': 'Had a long chat with a relative who was trying to sell me on why taking a data scientist job after my MS is a waste of time and instead I need to delay gratification for a better career by doing a PhD in statistics. I was told I’d regret not doing one and that with an MS I will stagnate in pay and in my career mobility with an MS in Stats and not a PhD. So I wanna ask MS statisticians here who didn’t do a PhD. How did your career turn out? How are you financially? Can you enjoy nice things in life and do you feel you are “stuck”? Without a PhD has your career really been held back?'}], 'e': 'par'}]\n",
      "[{'c': [{'e': 'text', 't': \"I see LLM's are all the rage these days. Learning and applying NLP projects seem redundant when you can fine tune a LLM model and get equally better results.\"}], 'e': 'par'}, {'c': [{'e': 'text', 't': 'I want to learn what domain of DS/AI would you recommend investing my time in and why from future job scope perspective: Classical ML NLP CV Other (please specify)'}], 'e': 'par'}, {'c': [{'e': 'text', 't': 'Thank you! Happy holidays everyone🎅!'}], 'e': 'par'}]\n",
      "[{'c': [{'e': 'text', 't': \"Hey folks, I am learning Time series Forecasting, and currently at topic of Model building and cross validation. I came up at topic of Walk forward validation of model. I didn't understand it well from my ongoing course, I searched it on internet but didn't helped.\"}], 'e': 'par'}, {'c': [{'e': 'text', 't': 'Can someone explain it in easy way with example.'}], 'e': 'par'}]\n",
      "[{'c': [{'e': 'text', 't': 'How do you land a data job when you’re a physics masters with self-driven software experience?'}], 'e': 'par'}, {'c': [{'e': 'text', 't': 'Applied to over 1300 DS, DA, and MLE jobs without luck, feeling pretty defeated.'}], 'e': 'par'}, {'c': [{'e': 'text', 't': 'My experience includes three major kaggle competitions, one in which I got a bronze medal, and a few entrepreneurial projects including a full stack application running a deep learning model on AWS cloud. I also have been developing software for a research group at CERN.'}], 'e': 'par'}, {'c': [{'e': 'text', 't': 'I understand that not having a CS degree or no corporate experience sets me back, but is it really that hard to land a job?? I’ve been trying for over two years. Sometimes I feel like recruiters don’t even open my resume.'}], 'e': 'par'}, {'c': [{'e': 'text', 't': 'I mainly apply on linkedin, but also on company websites especially Microsoft.'}], 'e': 'par'}, {'c': [{'e': 'text', 't': 'Any advice is appreciated.'}], 'e': 'par'}]\n",
      "[{'c': [{'e': 'text', 't': \"I have an MS in data science, working as a data analyst and considering getting an MBA. I'm not sure if I should do the concentration in data analytics or business analytics I see some programs offer. My MS program was focused on computer science and statistics courses, not really presenting or dealing with a client.\"}], 'e': 'par'}, {'c': [{'e': 'text', 't': 'Has anyone gone through a similar MS and done a data/business analytics focused MBA? Were the data classes helpful or do you feel a general MBA would have been better? Thanks.'}], 'e': 'par'}, {'c': [{'e': 'text', 't': \"Edit: My employer offers tuition reimbursement but it's not much. Only $1,500 per term with a max of $3,000 a year. So I'll be paying some out of my own pocket.\"}], 'e': 'par'}]\n",
      "[{'c': [{'e': 'text', 't': \"I've been trying very hard recently to learn some practical stuff and put it on my resume, but I still don't get any call-back from companies. I've been applying for a role as data scientist, data analyst, financial analyst, business analyst, quant trader, quant researcher, etc. Can you give me any constructive feedback for me based on my resume?\"}], 'e': 'par'}, {'e': 'img', 'id': 'qjk5q1fnv58c1'}]\n",
      "[{'c': [{'e': 'text', 't': 'Or Patreon, Snap, Dropbox or Notion.'}], 'e': 'par'}, {'c': [{'e': 'text', 't': \"I am in the loop with all of these companies, but furthest along with Figma and Patreon - I would love to know any insights if anyone's been through it before. Feel free to DM if you don't want to share publicly.\"}], 'e': 'par'}]\n",
      "[{'c': [{'e': 'text', 't': 'Suppose I have records of the number of fishes that each fisherman caught from a particular lake within the year. The distribution peaks at count = 1 (i.e. most fishermen caught just one fish from the lake in the year), tapers off after that, and has a long right-tail (a very small number of fishermen caught over 100 fishes).'}], 'e': 'par'}, {'c': [{'e': 'text', 't': 'Such a data could possibly fit either a Poisson Distribution or a Negative Binomial Distribution. However, both of these distributions have a non-zero probability at count = 0, whereas for our data, fishermen who caught no fishes were not captured as a data point.'}], 'e': 'par'}, {'c': [{'e': 'text', 't': 'Why is it not correct to transform our original data by just deducting 1 from all counts, and therefore shifting our distribution to the left by 1 such that there is now a non-zero probability at count = 0?'}], 'e': 'par'}, {'c': [{'e': 'text', 't': '(Context: this question came up to me during an interview for a data science job. The interviewer asked me how to deal with the non-zero probability at count = 0 for poisson or negative binomial distribution, and I suggested transforming the data by deducting 1 from all counts which apparently was wrong. I think the correct answer to how to deal with the absence of count = 0 is to use a zero-trauncated distribution instead)'}], 'e': 'par'}]\n",
      "[]\n",
      "[{'c': [{'e': 'text', 't': 'I had a PM of a project where i was a DS where my job was to come up with the experiments and build the models, call me out on my coding skills. I do all my work in notebooks and he dint like that, he told me I had to improve my code.'}], 'e': 'par'}, {'c': [{'e': 'text', 't': 'I told him I dont have much experience as a software engineer, he said thats not an excuse.'}], 'e': 'par'}, {'c': [{'e': 'text', 't': 'I replied, isnt that like telling the devs to fix the server if it goes down. Its like expecting a software engineer to have sys admin skills.'}], 'e': 'par'}, {'c': [{'e': 'text', 't': 'He did not like my response very much.'}], 'e': 'par'}, {'c': [{'e': 'text', 't': 'I was wonder whats everyone thought on being a DS and being required to have software engineering skills at the same time?'}], 'e': 'par'}]\n",
      "[{'c': [{'e': 'text', 't': \"I come from a computer science background and I was discussing with a friend who comes from a math background and he was telling me that if a person dosent know why we use kl divergence instead of other divergence metrics or why we divide square root of d in the softmax for the attention paper , we shouldn't hire him , while I myself didn't know the answer and fell into a existential crisis and kinda had an imposter syndrome after that. Currently we both are also working together on a project so now I question every thing I do.\"}], 'e': 'par'}, {'c': [{'e': 'text', 't': 'Wanted to know ur thoughts on that'}], 'e': 'par'}]\n",
      "[{'c': [{'e': 'text', 't': 'Just curious what people are doing on this front... is it worth going down the deployment rabbit hole or do you just pay for a service?'}], 'e': 'par'}]\n",
      "[]\n",
      "[{'c': [{'e': 'text', 't': 'I’m divided myself on this topic because I get that it’s more for data exploration. But at the same time, the code will eventually be put into production even if it’s not the current iteration.'}], 'e': 'par'}]\n",
      "[{'c': [{'e': 'text', 't': 'I’ve written a couple of times about my manager and how toxic it has been on the team. I had a chance to re-org to a different team, but he made it difficult to change and kept putting so many hoops.'}], 'e': 'par'}, {'c': [{'e': 'text', 't': 'And then he became interim AVP because AVP got fed up and left, which meant that I wasn’t switching teams.'}], 'e': 'par'}, {'c': [{'e': 'text', 't': 'However, I had a random chance meeting with the someone higher and I spoke to them about everything, which he wasn’t aware of. They have a brand new team that I’ll be a part of.'}], 'e': 'par'}, {'c': [{'e': 'text', 't': 'And best of all, my current manager can’t say anything and I’ll be leaving! However, since it’s internal, there’ll be transition time since there is no team. There’s no one to replace me on my team, unfortunately.'}], 'e': 'par'}, {'c': [{'e': 'text', 't': 'However, the new role comes with a promotion and a 20% salary increase, so this is truly the best Christmas gift ever! The projects won’t be as interesting, but I want to take a break from LLMs and stick to classification. LLMs in a corporation is really… political and the data sucks.'}], 'e': 'par'}, {'c': [{'e': 'text', 't': 'And then I can look for a new role externally with the title change, so definitely excited! I definitely have imposter syndrome about the new role, but very excited to start having more than 4 hours of sleep and not waking up to a million rude messages from my manager. It’s ridiculously hard to prepare for a new job when your current job is so toxic and you’re so burnt out.'}], 'e': 'par'}, {'c': [{'e': 'text', 't': 'Thanks so much for the advice and encouragement!!'}], 'e': 'par'}]\n",
      "[{'c': [{'e': 'text', 't': 'This article will explain how to use '}, {'e': 'link', 'u': 'https://scikit-learn.org/stable/modules/compose.html?ref=dataleadsfuture.com', 't': 'Pipeline'}, {'e': 'text', 't': ' and '}, {'e': 'link', 'u': 'https://scikit-learn.org/stable/data_transforms.html?ref=dataleadsfuture.com', 't': 'Transformers'}, {'e': 'text', 't': ' correctly in Scikit-Learn (sklearn) projects to speed up and reuse our model training process.'}], 'e': 'par'}, {'c': [{'e': 'text', 't': 'This piece complements and clarifies the official documentation on Pipeline examples and some common misunderstandings.'}], 'e': 'par'}, {'c': [{'e': 'text', 't': \"I hope that after reading this, you'll be able to use the Pipeline, an excellent design, to better complete your machine learning tasks.\"}], 'e': 'par'}, {'c': [{'e': 'text', 't': 'This article was originally published on my personal blog '}, {'e': 'link', 'u': 'https://www.dataleadsfuture.com/ensuring-correct-use-of-transformers-in-scikit-learn-pipeline/', 't': 'Data Leads Future.'}], 'e': 'par'}, {'c': [{'e': 'raw', 't': 'Why use a Pipeline'}], 'e': 'h', 'l': 3}, {'c': [{'e': 'text', 't': 'As mentioned earlier, in a machine learning task, we often need to use various Transformers for data scaling and feature dimensionality reduction before training a model.'}], 'e': 'par'}, {'c': [{'e': 'text', 't': 'This presents several challenges:'}], 'e': 'par'}, {'c': [{'c': [{'c': [{'e': 'text', 't': 'Code complexity: For each use of a Transformer, we have to go through initialization, fit_transform, and transform steps. Missing one step during a transformation could derail the entire training process.', 'f': [[1, 0, 15], [64, 86, 13], [64, 105, 9]]}], 'e': 'par'}], 'e': 'li'}, {'c': [{'c': [{'e': 'text', 't': 'Data leakage: As we discussed, for each Transformer, we fit with train data and then transform both train and test data. We must avoid letting the distribution of the test data leak into the train data.', 'f': [[1, 0, 12]]}], 'e': 'par'}], 'e': 'li'}, {'c': [{'c': [{'e': 'text', 't': 'Code reusability: A machine learning model includes not only the trained Estimator for prediction but also the data preprocessing steps. Therefore, a machine learning task comprising Transformers and an Estimator should be atomic and indivisible.', 'f': [[1, 0, 16]]}], 'e': 'par'}], 'e': 'li'}, {'c': [{'c': [{'e': 'text', 't': 'Hyperparameter tuning: After setting up the steps of machine learning, we need to adjust hyperparameters to find the best combination of Transformer parameter values.', 'f': [[1, 0, 21]]}], 'e': 'par'}], 'e': 'li'}], 'e': 'list', 'o': False}, {'c': [{'e': 'text', 't': 'Scikit-Learn introduced the Pipeline module to solve these issues.', 'f': [[64, 28, 8]]}], 'e': 'par'}]\n",
      "[{'c': [{'e': 'text', 't': 'Hey data science people,'}], 'e': 'par'}, {'c': [{'e': 'text', 't': \"I've been a data scientist now for several years, and am currently in somewhat of a leadership position. I work for a smaller company, for which I was their very first data scientist. Overall, I'd describe my situation as somewhat of a massive double-edged sword. I've developed all their infrastructure and have really set the scope of data science at the organization. This last year, I started a push into actual data products. In that sense, it's been very rewarding getting to experience multiple hats, mostly be my own boss, and to be able to create something across not only the modeling side, but also the infrastructure and product management sides.\"}], 'e': 'par'}, {'c': [{'e': 'text', 't': \"That said, the other side of the sword is all that comes with being the first data scientist at a smaller organization. The being a one-man startup within a company thing can definitely be a fair amount of exhausting and isolating. Hiring other positions itself has been very tricky. Company buy-in has been a weird mix... they definitely make me feel heavily valued, and I'm not afraid of losing my job. The last presentation I gave, the COO was practically salivating. Yet, I also feel like they haven't committed too much buy-in to data science in general. I've told my boss repeatedly how it all can feel really tenuous. Even scheduling meetings to go over data science success with various company stakeholders, feels like they really have to fit it in.\"}], 'e': 'par'}, {'c': [{'e': 'text', 't': \"With all that said, my boss has for a long time been very interested in scaling up data science at the organization. He recently informally offered me a title bump up to Director of Data Science, and I'm considering it. I've also been thinking about changing companies to experience how others do it, or else taking somewhat of a sabbatical to think out the next stage of my life, what direction I want to go in. Overall I'm torn about the limitations of my current company... had originally gotten into data science to do NLP, and now that LLMs are taking off, I feel like I'm falling farther and farther away from that working here. I'm also wondering on whether it would be smart to take on a director role from the first company I started my ds career with. I'm a little worried I would get shoehorned from now on into director roles, when I'm not sure I'm ready to give up a more raw position. That said, my company has overall treated me well, and it IS a director role, which essentially I'm already doing.\"}], 'e': 'par'}, {'c': [{'e': 'text', 't': \"So yeah, overall I think taking the director role would be an interesting experience and might play into my underlying motivations around creativity, BUT I'm also wary of the limitations of my own company in the field, and whether it overall aligns with my interests in things like LLMs.\"}], 'e': 'par'}, {'c': [{'e': 'text', 't': 'What do you guys think? :)'}], 'e': 'par'}]\n",
      "[]\n",
      "[{'c': [{'e': 'text', 't': \"Hi. I have the opportunity to define my own data role at a very very large company. I'm currently a Sr. DS and I manage a team at a startup. This seems like a trick - the company is tech and data heavy and they have data scientists on staff, in abundance - I'm not that great.\", 'f': [[2, 257, 3]]}], 'e': 'par'}, {'c': [{'e': 'text', 't': 'Is this a trap?', 'f': [[1, 10, 4]]}], 'e': 'par'}]\n",
      "[{'c': [{'e': 'text', 't': 'UPDATE TO TITLE: I meant, “heading down the management path.”'}], 'e': 'par'}, {'c': [{'e': 'text', 't': 'It’s been 6 months since starting a data science management role, and now have been laid off.'}], 'e': 'par'}, {'c': [{'e': 'text', 't': 'The role was sold as a data science manager, yet ended up doing admin work and touched on very small amounts of actual data science projects.'}], 'e': 'par'}, {'c': [{'e': 'text', 't': 'I was upset about the role but my boss assured me there were “big things” in the pipeline.'}], 'e': 'par'}, {'c': [{'e': 'text', 't': 'I got my break and finally took responsibility for a project and coordinated with a team from the US. Things went smoothly, and as a native English speaker (I’m EU based), I sat in on more global meetings.'}], 'e': 'par'}, {'c': [{'e': 'text', 't': 'Finally, things seemed to take off and work well… until I got fired today.'}], 'e': 'par'}, {'c': [{'e': 'text', 't': 'The result was: “business wasn’t happy with your results.” (We acted as data science manager consultants for different Business Units within the company). I asked why, the only feedback was a comment about a presentation not working out.'}], 'e': 'par'}, {'c': [{'e': 'text', 't': 'Business never communicated with me directly, only with my boss. There was a layer of reasoning missing.'}], 'e': 'par'}, {'c': [{'e': 'text', 't': 'So, here I am: questions unanswered, out of a job, and feel like I’ve missed my chance at DS management.'}], 'e': 'par'}, {'c': [{'e': 'text', 't': 'I have one week left. What could I best do with this time?'}], 'e': 'par'}]\n",
      "[{'c': [{'e': 'text', 't': 'Hey all, looking at a career transition out of the implementation side and into the sales / pre-sales side.'}], 'e': 'par'}, {'c': [{'e': 'text', 't': \"Many folks here who are in that space? If so I'd love to ask some questions and get the vibe. I have done quite a bit of the analytics side of DS and been involved in projects to do with Gen AI.\"}], 'e': 'par'}, {'c': [{'e': 'text', 't': \"Is this type of thing best left to pure tech sales folks? One of the commonalities I hear is that pure tech sales folks really struggle to understand or sell in the AI/ML space. So I figured I'd look at moving over.\"}], 'e': 'par'}]\n",
      "[{'c': [{'e': 'text', 't': \"I'm doing an excercise for an interview process and I'm no used to working on open source projects so I'm supposed to extract a csv and a Json and do some cleaning. I uploaded the files on a public github repository and did the extraction, cleaning and intial modeling on a jupyter notebook. so far so good.\"}], 'e': 'par'}, {'c': [{'e': 'text', 't': \"The next step is to do some SQL queries to analize data but I'm wondering how can I set everything up so that the recruiter will be able to connect and run my queries?\"}], 'e': 'par'}, {'c': [{'c': [{'c': [{'e': 'text', 't': 'Where and how should I output my jupyter created dataframes so that anyone can connect to them'}], 'e': 'par'}], 'e': 'li'}, {'c': [{'c': [{'e': 'text', 't': 'Which software could be used to query the data without having to set up a connection'}], 'e': 'par'}], 'e': 'li'}], 'e': 'list', 'o': True}, {'c': [], 'e': 'par'}, {'c': [{'e': 'text', 't': 'Thanks a lot'}], 'e': 'par'}]\n"
     ]
    }
   ],
   "source": [
    "for post in data_science_posts['data']['posts']:\n",
    "    print(post['media']['richtextContent']['document'])"
   ]
  },
  {
   "cell_type": "code",
   "execution_count": 140,
   "metadata": {},
   "outputs": [],
   "source": [
    "def get_post_text(post_text):\n",
    "    post_string=\"\"\n",
    "    if (len(post_text) == 0):\n",
    "        return \"None\"\n",
    "   \n",
    "    for text in post_text: \n",
    "        try: \n",
    "           for line in text['c']:\n",
    "               \n",
    "               a= line['t']\n",
    "               \n",
    "        except KeyError:\n",
    "            try:\n",
    "                for sentence in line['c']:\n",
    "                    print(sentence['c'][0]['t'])\n",
    "            except:\n",
    "                continue # for the 'e' key that we dont need\n",
    "        \n",
    "        \n",
    "    return post_string"
   ]
  },
  {
   "cell_type": "code",
   "execution_count": 141,
   "metadata": {},
   "outputs": [
    {
     "name": "stdout",
     "output_type": "stream",
     "text": [
      "Motivates different concepts and does not just show definition-proof-definition-proof\n",
      "Learning resources (e.g. books, tutorials, videos)\n",
      "Code complexity: For each use of a Transformer, we have to go through initialization, fit_transform, and transform steps. Missing one step during a transformation could derail the entire training process.\n",
      "Where and how should I output my jupyter created dataframes so that anyone can connect to them\n"
     ]
    }
   ],
   "source": [
    "post_texts = [get_post_text(post['media']['richtextContent']['document']) for post in data_science_posts['data']['posts']]\n"
   ]
  },
  {
   "cell_type": "code",
   "execution_count": 143,
   "metadata": {},
   "outputs": [],
   "source": [
    "def get_post_text(post_text):\n",
    "    post_string=\"\"\n",
    "    if (len(post_text) == 0):\n",
    "        return \"None\"\n",
    "   \n",
    "    for text in post_text: \n",
    "        try: \n",
    "           for line in text['c']:\n",
    "               \n",
    "               post_string+= line['t']\n",
    "               \n",
    "        except KeyError:\n",
    "            try:\n",
    "                for sentence in line['c']:\n",
    "                    post_string += sentence['c'][0]['t']\n",
    "            except:\n",
    "                continue # for the 'e' key that we dont need\n",
    "        \n",
    "        \n",
    "    return post_string"
   ]
  },
  {
   "cell_type": "code",
   "execution_count": 144,
   "metadata": {},
   "outputs": [],
   "source": [
    "post_texts = [get_post_text(post['media']['richtextContent']['document']) for post in data_science_posts['data']['posts']]\n"
   ]
  },
  {
   "cell_type": "code",
   "execution_count": 149,
   "metadata": {},
   "outputs": [
    {
     "data": {
      "text/plain": [
       "\"I see LLM's are all the rage these days. Learning and applying NLP projects seem redundant when you can fine tune a LLM model and get equally better results.I want to learn what domain of DS/AI would you recommend investing my time in and why from future job scope perspective: Classical ML NLP CV Other (please specify)Thank you! Happy holidays everyone🎅!\""
      ]
     },
     "execution_count": 149,
     "metadata": {},
     "output_type": "execute_result"
    }
   ],
   "source": [
    "post_texts[7]"
   ]
  },
  {
   "cell_type": "code",
   "execution_count": 150,
   "metadata": {},
   "outputs": [],
   "source": [
    "ds_posts_df['post_text'] =post_texts"
   ]
  },
  {
   "cell_type": "code",
   "execution_count": 152,
   "metadata": {},
   "outputs": [
    {
     "data": {
      "text/html": [
       "<div>\n",
       "<style scoped>\n",
       "    .dataframe tbody tr th:only-of-type {\n",
       "        vertical-align: middle;\n",
       "    }\n",
       "\n",
       "    .dataframe tbody tr th {\n",
       "        vertical-align: top;\n",
       "    }\n",
       "\n",
       "    .dataframe thead th {\n",
       "        text-align: right;\n",
       "    }\n",
       "</style>\n",
       "<table border=\"1\" class=\"dataframe\">\n",
       "  <thead>\n",
       "    <tr style=\"text-align: right;\">\n",
       "      <th></th>\n",
       "      <th>id</th>\n",
       "      <th>title</th>\n",
       "      <th>numComments</th>\n",
       "      <th>score</th>\n",
       "      <th>author</th>\n",
       "      <th>authorId</th>\n",
       "      <th>goldCount</th>\n",
       "      <th>domain</th>\n",
       "      <th>post_text</th>\n",
       "    </tr>\n",
       "  </thead>\n",
       "  <tbody>\n",
       "    <tr>\n",
       "      <th>0</th>\n",
       "      <td>t3_18qtaid</td>\n",
       "      <td>Probability reference book for data science pr...</td>\n",
       "      <td>19</td>\n",
       "      <td>50</td>\n",
       "      <td>HStuart18</td>\n",
       "      <td>t2_xfx8ms4</td>\n",
       "      <td>0</td>\n",
       "      <td>self.datascience</td>\n",
       "      <td>Hi all, I'd like to rehash my understanding of...</td>\n",
       "    </tr>\n",
       "    <tr>\n",
       "      <th>1</th>\n",
       "      <td>t3_18qrkqj</td>\n",
       "      <td>Have an upcoming interview for a data analyst ...</td>\n",
       "      <td>23</td>\n",
       "      <td>21</td>\n",
       "      <td>Impossible-Cry-495</td>\n",
       "      <td>t2_903k40ag</td>\n",
       "      <td>0</td>\n",
       "      <td>self.datascience</td>\n",
       "      <td>I have an interview at a company called Airbus...</td>\n",
       "    </tr>\n",
       "    <tr>\n",
       "      <th>2</th>\n",
       "      <td>t3_18qbsme</td>\n",
       "      <td>Weekly Entering &amp; Transitioning - Thread 25 De...</td>\n",
       "      <td>5</td>\n",
       "      <td>6</td>\n",
       "      <td>AutoModerator</td>\n",
       "      <td>t2_6l4z3</td>\n",
       "      <td>0</td>\n",
       "      <td>self.datascience</td>\n",
       "      <td>Welcome to this week's entering &amp; transitionin...</td>\n",
       "    </tr>\n",
       "    <tr>\n",
       "      <th>3</th>\n",
       "      <td>t3_18q5xz2</td>\n",
       "      <td>Should I work over Christmas to fix my code, o...</td>\n",
       "      <td>47</td>\n",
       "      <td>48</td>\n",
       "      <td>ManagementObvious631</td>\n",
       "      <td>t2_9rp766xc1</td>\n",
       "      <td>0</td>\n",
       "      <td>self.datascience</td>\n",
       "      <td>Edit: changed a date.It's a long story, but ba...</td>\n",
       "    </tr>\n",
       "    <tr>\n",
       "      <th>4</th>\n",
       "      <td>t3_18q5vq6</td>\n",
       "      <td>PyTorch LSTM for time series</td>\n",
       "      <td>29</td>\n",
       "      <td>15</td>\n",
       "      <td>medylan</td>\n",
       "      <td>t2_44oxrfns</td>\n",
       "      <td>0</td>\n",
       "      <td>self.datascience</td>\n",
       "      <td>Does anyone have a good resource or example pr...</td>\n",
       "    </tr>\n",
       "  </tbody>\n",
       "</table>\n",
       "</div>"
      ],
      "text/plain": [
       "           id                                              title  numComments  \\\n",
       "0  t3_18qtaid  Probability reference book for data science pr...           19   \n",
       "1  t3_18qrkqj  Have an upcoming interview for a data analyst ...           23   \n",
       "2  t3_18qbsme  Weekly Entering & Transitioning - Thread 25 De...            5   \n",
       "3  t3_18q5xz2  Should I work over Christmas to fix my code, o...           47   \n",
       "4  t3_18q5vq6                       PyTorch LSTM for time series           29   \n",
       "\n",
       "   score                author      authorId  goldCount            domain  \\\n",
       "0     50             HStuart18    t2_xfx8ms4          0  self.datascience   \n",
       "1     21    Impossible-Cry-495   t2_903k40ag          0  self.datascience   \n",
       "2      6         AutoModerator      t2_6l4z3          0  self.datascience   \n",
       "3     48  ManagementObvious631  t2_9rp766xc1          0  self.datascience   \n",
       "4     15               medylan   t2_44oxrfns          0  self.datascience   \n",
       "\n",
       "                                           post_text  \n",
       "0  Hi all, I'd like to rehash my understanding of...  \n",
       "1  I have an interview at a company called Airbus...  \n",
       "2  Welcome to this week's entering & transitionin...  \n",
       "3  Edit: changed a date.It's a long story, but ba...  \n",
       "4  Does anyone have a good resource or example pr...  "
      ]
     },
     "execution_count": 152,
     "metadata": {},
     "output_type": "execute_result"
    }
   ],
   "source": [
    "ds_posts_df.head()"
   ]
  },
  {
   "cell_type": "code",
   "execution_count": 154,
   "metadata": {},
   "outputs": [
    {
     "data": {
      "text/html": [
       "<div>\n",
       "<style scoped>\n",
       "    .dataframe tbody tr th:only-of-type {\n",
       "        vertical-align: middle;\n",
       "    }\n",
       "\n",
       "    .dataframe tbody tr th {\n",
       "        vertical-align: top;\n",
       "    }\n",
       "\n",
       "    .dataframe thead th {\n",
       "        text-align: right;\n",
       "    }\n",
       "</style>\n",
       "<table border=\"1\" class=\"dataframe\">\n",
       "  <thead>\n",
       "    <tr style=\"text-align: right;\">\n",
       "      <th></th>\n",
       "      <th>title</th>\n",
       "      <th>post_text</th>\n",
       "    </tr>\n",
       "  </thead>\n",
       "  <tbody>\n",
       "    <tr>\n",
       "      <th>0</th>\n",
       "      <td>Probability reference book for data science pr...</td>\n",
       "      <td>Hi all, I'd like to rehash my understanding of...</td>\n",
       "    </tr>\n",
       "    <tr>\n",
       "      <th>1</th>\n",
       "      <td>Have an upcoming interview for a data analyst ...</td>\n",
       "      <td>I have an interview at a company called Airbus...</td>\n",
       "    </tr>\n",
       "    <tr>\n",
       "      <th>2</th>\n",
       "      <td>Weekly Entering &amp; Transitioning - Thread 25 De...</td>\n",
       "      <td>Welcome to this week's entering &amp; transitionin...</td>\n",
       "    </tr>\n",
       "    <tr>\n",
       "      <th>3</th>\n",
       "      <td>Should I work over Christmas to fix my code, o...</td>\n",
       "      <td>Edit: changed a date.It's a long story, but ba...</td>\n",
       "    </tr>\n",
       "    <tr>\n",
       "      <th>4</th>\n",
       "      <td>PyTorch LSTM for time series</td>\n",
       "      <td>Does anyone have a good resource or example pr...</td>\n",
       "    </tr>\n",
       "    <tr>\n",
       "      <th>5</th>\n",
       "      <td>👋 We're ButcherBox and we believe humanely rai...</td>\n",
       "      <td>None</td>\n",
       "    </tr>\n",
       "    <tr>\n",
       "      <th>6</th>\n",
       "      <td>MS statisticians here, do you guys have good c...</td>\n",
       "      <td>Had a long chat with a relative who was trying...</td>\n",
       "    </tr>\n",
       "    <tr>\n",
       "      <th>7</th>\n",
       "      <td>What Domain of DS will have most jobs in the f...</td>\n",
       "      <td>I see LLM's are all the rage these days. Learn...</td>\n",
       "    </tr>\n",
       "    <tr>\n",
       "      <th>8</th>\n",
       "      <td>Walk forward validation</td>\n",
       "      <td>Hey folks, I am learning Time series Forecasti...</td>\n",
       "    </tr>\n",
       "    <tr>\n",
       "      <th>9</th>\n",
       "      <td>Job hunt status: feeling defeated</td>\n",
       "      <td>How do you land a data job when you’re a physi...</td>\n",
       "    </tr>\n",
       "    <tr>\n",
       "      <th>10</th>\n",
       "      <td>MBA with Data Analytics Concentration after MS...</td>\n",
       "      <td>I have an MS in data science, working as a dat...</td>\n",
       "    </tr>\n",
       "    <tr>\n",
       "      <th>11</th>\n",
       "      <td>Math major struggling to get an interview for ...</td>\n",
       "      <td>I've been trying very hard recently to learn s...</td>\n",
       "    </tr>\n",
       "    <tr>\n",
       "      <th>12</th>\n",
       "      <td>Has anyone interviewed with Figma?</td>\n",
       "      <td>Or Patreon, Snap, Dropbox or Notion.I am in th...</td>\n",
       "    </tr>\n",
       "    <tr>\n",
       "      <th>13</th>\n",
       "      <td>Why can't I transform a distribution by deduct...</td>\n",
       "      <td>Suppose I have records of the number of fishes...</td>\n",
       "    </tr>\n",
       "    <tr>\n",
       "      <th>14</th>\n",
       "      <td>Learn how A.I. can make a difference. Whether ...</td>\n",
       "      <td>None</td>\n",
       "    </tr>\n",
       "    <tr>\n",
       "      <th>15</th>\n",
       "      <td>In your opinion how important is dev skills in...</td>\n",
       "      <td>I had a PM of a project where i was a DS where...</td>\n",
       "    </tr>\n",
       "    <tr>\n",
       "      <th>16</th>\n",
       "      <td>Is Everyone in data science a mathematician</td>\n",
       "      <td>I come from a computer science background and ...</td>\n",
       "    </tr>\n",
       "    <tr>\n",
       "      <th>17</th>\n",
       "      <td>Have any of you ever paid for Streamlit/Dash (...</td>\n",
       "      <td>Just curious what people are doing on this fro...</td>\n",
       "    </tr>\n",
       "    <tr>\n",
       "      <th>18</th>\n",
       "      <td>What are some of the most “confidently incorre...</td>\n",
       "      <td>None</td>\n",
       "    </tr>\n",
       "    <tr>\n",
       "      <th>19</th>\n",
       "      <td>Should notebooks follow software engineering b...</td>\n",
       "      <td>I’m divided myself on this topic because I get...</td>\n",
       "    </tr>\n",
       "    <tr>\n",
       "      <th>20</th>\n",
       "      <td>Thank you for the advice on my manager! I’m fi...</td>\n",
       "      <td>I’ve written a couple of times about my manage...</td>\n",
       "    </tr>\n",
       "    <tr>\n",
       "      <th>21</th>\n",
       "      <td>How to correctly use sklearn Transformers in a...</td>\n",
       "      <td>This article will explain how to use Pipeline ...</td>\n",
       "    </tr>\n",
       "    <tr>\n",
       "      <th>22</th>\n",
       "      <td>Taking a Director of Data Science Position fro...</td>\n",
       "      <td>Hey data science people,I've been a data scien...</td>\n",
       "    </tr>\n",
       "    <tr>\n",
       "      <th>23</th>\n",
       "      <td>\"Airflow is not a data streaming solution.\" So...</td>\n",
       "      <td>None</td>\n",
       "    </tr>\n",
       "    <tr>\n",
       "      <th>24</th>\n",
       "      <td>Advice needed, (not a humble brag, I swear)</td>\n",
       "      <td>Hi. I have the opportunity to define my own da...</td>\n",
       "    </tr>\n",
       "    <tr>\n",
       "      <th>25</th>\n",
       "      <td>Just got laid off as I was heading the managem...</td>\n",
       "      <td>UPDATE TO TITLE: I meant, “heading down the ma...</td>\n",
       "    </tr>\n",
       "    <tr>\n",
       "      <th>26</th>\n",
       "      <td>Looking at sales</td>\n",
       "      <td>Hey all, looking at a career transition out of...</td>\n",
       "    </tr>\n",
       "    <tr>\n",
       "      <th>27</th>\n",
       "      <td>Coding Excercise question</td>\n",
       "      <td>I'm doing an excercise for an interview proces...</td>\n",
       "    </tr>\n",
       "  </tbody>\n",
       "</table>\n",
       "</div>"
      ],
      "text/plain": [
       "                                                title  \\\n",
       "0   Probability reference book for data science pr...   \n",
       "1   Have an upcoming interview for a data analyst ...   \n",
       "2   Weekly Entering & Transitioning - Thread 25 De...   \n",
       "3   Should I work over Christmas to fix my code, o...   \n",
       "4                        PyTorch LSTM for time series   \n",
       "5   👋 We're ButcherBox and we believe humanely rai...   \n",
       "6   MS statisticians here, do you guys have good c...   \n",
       "7   What Domain of DS will have most jobs in the f...   \n",
       "8                             Walk forward validation   \n",
       "9                   Job hunt status: feeling defeated   \n",
       "10  MBA with Data Analytics Concentration after MS...   \n",
       "11  Math major struggling to get an interview for ...   \n",
       "12                 Has anyone interviewed with Figma?   \n",
       "13  Why can't I transform a distribution by deduct...   \n",
       "14  Learn how A.I. can make a difference. Whether ...   \n",
       "15  In your opinion how important is dev skills in...   \n",
       "16        Is Everyone in data science a mathematician   \n",
       "17  Have any of you ever paid for Streamlit/Dash (...   \n",
       "18  What are some of the most “confidently incorre...   \n",
       "19  Should notebooks follow software engineering b...   \n",
       "20  Thank you for the advice on my manager! I’m fi...   \n",
       "21  How to correctly use sklearn Transformers in a...   \n",
       "22  Taking a Director of Data Science Position fro...   \n",
       "23  \"Airflow is not a data streaming solution.\" So...   \n",
       "24        Advice needed, (not a humble brag, I swear)   \n",
       "25  Just got laid off as I was heading the managem...   \n",
       "26                                   Looking at sales   \n",
       "27                          Coding Excercise question   \n",
       "\n",
       "                                            post_text  \n",
       "0   Hi all, I'd like to rehash my understanding of...  \n",
       "1   I have an interview at a company called Airbus...  \n",
       "2   Welcome to this week's entering & transitionin...  \n",
       "3   Edit: changed a date.It's a long story, but ba...  \n",
       "4   Does anyone have a good resource or example pr...  \n",
       "5                                                None  \n",
       "6   Had a long chat with a relative who was trying...  \n",
       "7   I see LLM's are all the rage these days. Learn...  \n",
       "8   Hey folks, I am learning Time series Forecasti...  \n",
       "9   How do you land a data job when you’re a physi...  \n",
       "10  I have an MS in data science, working as a dat...  \n",
       "11  I've been trying very hard recently to learn s...  \n",
       "12  Or Patreon, Snap, Dropbox or Notion.I am in th...  \n",
       "13  Suppose I have records of the number of fishes...  \n",
       "14                                               None  \n",
       "15  I had a PM of a project where i was a DS where...  \n",
       "16  I come from a computer science background and ...  \n",
       "17  Just curious what people are doing on this fro...  \n",
       "18                                               None  \n",
       "19  I’m divided myself on this topic because I get...  \n",
       "20  I’ve written a couple of times about my manage...  \n",
       "21  This article will explain how to use Pipeline ...  \n",
       "22  Hey data science people,I've been a data scien...  \n",
       "23                                               None  \n",
       "24  Hi. I have the opportunity to define my own da...  \n",
       "25  UPDATE TO TITLE: I meant, “heading down the ma...  \n",
       "26  Hey all, looking at a career transition out of...  \n",
       "27  I'm doing an excercise for an interview proces...  "
      ]
     },
     "execution_count": 154,
     "metadata": {},
     "output_type": "execute_result"
    }
   ],
   "source": [
    "ds_posts_df[['title','post_text']]"
   ]
  },
  {
   "cell_type": "code",
   "execution_count": 155,
   "metadata": {},
   "outputs": [],
   "source": [
    "# Saving again with post texts\n",
    "ds_posts_df.to_csv(\"data_science_posts.csv\", index=False)"
   ]
  }
 ],
 "metadata": {
  "kernelspec": {
   "display_name": "Python 3",
   "language": "python",
   "name": "python3"
  },
  "language_info": {
   "codemirror_mode": {
    "name": "ipython",
    "version": 3
   },
   "file_extension": ".py",
   "mimetype": "text/x-python",
   "name": "python",
   "nbconvert_exporter": "python",
   "pygments_lexer": "ipython3",
   "version": "3.10.13"
  }
 },
 "nbformat": 4,
 "nbformat_minor": 2
}
