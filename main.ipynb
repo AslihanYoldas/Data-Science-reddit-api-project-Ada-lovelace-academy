{
 "cells": [
  {
   "cell_type": "code",
   "execution_count": 1,
   "metadata": {},
   "outputs": [],
   "source": [
    "import requests\n",
    "import pandas as pd\n",
    "from config import constants,api_key\n",
    "import module"
   ]
  },
  {
   "cell_type": "code",
   "execution_count": 5,
   "metadata": {},
   "outputs": [],
   "source": [
    "POPULAR_POST_END_POINT = \"/getTopPopularPosts\""
   ]
  },
  {
   "cell_type": "markdown",
   "metadata": {},
   "source": [
    "## Making API call to Reddit api"
   ]
  },
  {
   "cell_type": "code",
   "execution_count": null,
   "metadata": {},
   "outputs": [],
   "source": [
    "\n",
    "querystring = {\"time\":\"year\"}# required parameter\n",
    "headers = {\n",
    "\t\"X-RapidAPI-Key\": api_key.RAPID_API_KEY,\n",
    "\t\"X-RapidAPI-Host\": constants.RAPID_API_HOST\n",
    "}\n",
    "response = requests.get(constants.BASE_URL + POPULAR_POST_END_POINT, headers=headers, params=querystring)\n"
   ]
  },
  {
   "cell_type": "code",
   "execution_count": 7,
   "metadata": {},
   "outputs": [],
   "source": [
    "data_popular = response.json()"
   ]
  },
  {
   "cell_type": "code",
   "execution_count": null,
   "metadata": {},
   "outputs": [],
   "source": [
    "for post in data_popular['data']['posts']:\n",
    "    print(post['id'])\n",
    "    print(post['title'])\n",
    "    print(post['numComments'])\n",
    "    print(post['score'])\n",
    "    print(post['author'])\n",
    "    print(post['authorId'])\n",
    "    print(post['goldCount'])\n",
    "    print(post['domain'])\n",
    "    print(\"\\n\")"
   ]
  },
  {
   "cell_type": "markdown",
   "metadata": {},
   "source": [
    "## Turning into data frame"
   ]
  },
  {
   "cell_type": "code",
   "execution_count": 37,
   "metadata": {},
   "outputs": [],
   "source": [
    "popular_posts =[]\n",
    "for post in data_popular['data']['posts']:\n",
    "    popular_post= {\n",
    "        \"id\":post['id'],\n",
    "        \"title\":post['title'],\n",
    "        \"numComments\":post['numComments'],\n",
    "        \"score\":post['score'],\n",
    "        \"author\":post['author'],\n",
    "        \"authorId\":post['authorId'],\n",
    "        \"goldCount\":post['goldCount'],\n",
    "        \"domain\":post['domain']}\n",
    "    popular_posts.append(popular_post)\n",
    "\n",
    "popular_posts_df = pd.DataFrame(popular_posts)"
   ]
  },
  {
   "cell_type": "code",
   "execution_count": 4,
   "metadata": {},
   "outputs": [
    {
     "data": {
      "text/html": [
       "<div>\n",
       "<style scoped>\n",
       "    .dataframe tbody tr th:only-of-type {\n",
       "        vertical-align: middle;\n",
       "    }\n",
       "\n",
       "    .dataframe tbody tr th {\n",
       "        vertical-align: top;\n",
       "    }\n",
       "\n",
       "    .dataframe thead th {\n",
       "        text-align: right;\n",
       "    }\n",
       "</style>\n",
       "<table border=\"1\" class=\"dataframe\">\n",
       "  <thead>\n",
       "    <tr style=\"text-align: right;\">\n",
       "      <th></th>\n",
       "      <th>id</th>\n",
       "      <th>title</th>\n",
       "      <th>numComments</th>\n",
       "      <th>score</th>\n",
       "      <th>author</th>\n",
       "      <th>authorId</th>\n",
       "      <th>goldCount</th>\n",
       "      <th>domain</th>\n",
       "    </tr>\n",
       "  </thead>\n",
       "  <tbody>\n",
       "    <tr>\n",
       "      <th>0</th>\n",
       "      <td>t3_11ia0od</td>\n",
       "      <td>Hi, I’m Keanu Reeves, AMA</td>\n",
       "      <td>32997</td>\n",
       "      <td>290221</td>\n",
       "      <td>lionsgate</td>\n",
       "      <td>t2_2yjg9dt0</td>\n",
       "      <td>21</td>\n",
       "      <td>i.redd.it</td>\n",
       "    </tr>\n",
       "    <tr>\n",
       "      <th>1</th>\n",
       "      <td>t3_187p59c</td>\n",
       "      <td>YSK MTN DEW GAME FUEL is back! Partnering with...</td>\n",
       "      <td>0</td>\n",
       "      <td>0</td>\n",
       "      <td>MTNDEWGaming</td>\n",
       "      <td>t2_t4otn2sq</td>\n",
       "      <td>0</td>\n",
       "      <td>mountaindew.com</td>\n",
       "    </tr>\n",
       "    <tr>\n",
       "      <th>2</th>\n",
       "      <td>t3_144f6xm</td>\n",
       "      <td>📣 Apollo will close down on June 30th. Reddit’...</td>\n",
       "      <td>15438</td>\n",
       "      <td>220416</td>\n",
       "      <td>iamthatis</td>\n",
       "      <td>t2_4mwol</td>\n",
       "      <td>354</td>\n",
       "      <td>self.apolloapp</td>\n",
       "    </tr>\n",
       "    <tr>\n",
       "      <th>3</th>\n",
       "      <td>t3_17xjfyu</td>\n",
       "      <td>Left the office &amp; found the neighbors cat in m...</td>\n",
       "      <td>3475</td>\n",
       "      <td>218627</td>\n",
       "      <td>go_fight_kickass</td>\n",
       "      <td>t2_12g6zr</td>\n",
       "      <td>0</td>\n",
       "      <td>i.redd.it</td>\n",
       "    </tr>\n",
       "    <tr>\n",
       "      <th>4</th>\n",
       "      <td>t3_10lcvuy</td>\n",
       "      <td>Trust the process guys</td>\n",
       "      <td>4228</td>\n",
       "      <td>218095</td>\n",
       "      <td>ThoumasTurbando</td>\n",
       "      <td>t2_usejv7ts</td>\n",
       "      <td>3</td>\n",
       "      <td>v.redd.it</td>\n",
       "    </tr>\n",
       "  </tbody>\n",
       "</table>\n",
       "</div>"
      ],
      "text/plain": [
       "           id                                              title  numComments  \\\n",
       "0  t3_11ia0od                          Hi, I’m Keanu Reeves, AMA        32997   \n",
       "1  t3_187p59c  YSK MTN DEW GAME FUEL is back! Partnering with...            0   \n",
       "2  t3_144f6xm  📣 Apollo will close down on June 30th. Reddit’...        15438   \n",
       "3  t3_17xjfyu  Left the office & found the neighbors cat in m...         3475   \n",
       "4  t3_10lcvuy                             Trust the process guys         4228   \n",
       "\n",
       "    score            author     authorId  goldCount           domain  \n",
       "0  290221         lionsgate  t2_2yjg9dt0         21        i.redd.it  \n",
       "1       0      MTNDEWGaming  t2_t4otn2sq          0  mountaindew.com  \n",
       "2  220416         iamthatis     t2_4mwol        354   self.apolloapp  \n",
       "3  218627  go_fight_kickass    t2_12g6zr          0        i.redd.it  \n",
       "4  218095   ThoumasTurbando  t2_usejv7ts          3        v.redd.it  "
      ]
     },
     "execution_count": 4,
     "metadata": {},
     "output_type": "execute_result"
    }
   ],
   "source": [
    "popular_posts_df.head()"
   ]
  },
  {
   "cell_type": "code",
   "execution_count": 41,
   "metadata": {},
   "outputs": [],
   "source": [
    "# Saving csv file\n",
    "popular_posts_df.to_csv(\"popular_posts.csv\",index=False)"
   ]
  },
  {
   "cell_type": "markdown",
   "metadata": {},
   "source": [
    "## Get post details"
   ]
  },
  {
   "cell_type": "code",
   "execution_count": 44,
   "metadata": {},
   "outputs": [],
   "source": [
    "POST_DETAILS_END_POINT = \"/getPostDetails\"\n",
    "\n",
    "querystring = {\"post_id\":\"t3_144f6xm\"}\n",
    "\n",
    "headers = {\n",
    "\t\"X-RapidAPI-Key\": api_key.RAPID_API_KEY,\n",
    "\t\"X-RapidAPI-Host\": constants.RAPID_API_HOST\n",
    "}\n",
    "\n",
    "response = requests.get(constants.BASE_URL+POST_DETAILS_END_POINT, headers=headers, params=querystring)\n",
    "\n",
    "post_detail = response.json()"
   ]
  },
  {
   "cell_type": "code",
   "execution_count": 114,
   "metadata": {},
   "outputs": [],
   "source": [
    "post_text=post_detail['data']['media']['richtextContent']['document']"
   ]
  },
  {
   "cell_type": "code",
   "execution_count": 99,
   "metadata": {},
   "outputs": [
    {
     "name": "stdout",
     "output_type": "stream",
     "text": [
      "{'c': [{'e': 'text', 't': \"I don't want Reddit slandering me to internal employees or public people by saying I threatened them when they reality is that they immediately apologized for misunderstanding me.\"}], 'e': 'par'}\n"
     ]
    }
   ],
   "source": [
    "# Gettin Key error because of nested text\n",
    "# Trying to understand hierachy\n",
    "for line in post_text:\n",
    "    try:\n",
    "        a =line['c'][0]['t']\n",
    "    except KeyError:\n",
    "        for nested_line in line['c'][0]['c']:\n",
    "            try:\n",
    "                a= nested_line['t']\n",
    "            except:\n",
    "                print(nested_line)\n",
    "                continue\n",
    "        continue"
   ]
  },
  {
   "cell_type": "code",
   "execution_count": null,
   "metadata": {},
   "outputs": [],
   "source": [
    "# Getting the full post text\n",
    "for line in post_text:\n",
    "    try:\n",
    "        print(line['c'][0]['t'])\n",
    "    except KeyError:\n",
    "        for nested_line in line['c'][0]['c']:\n",
    "            try:\n",
    "                print( nested_line['t'])\n",
    "            except KeyError:\n",
    "                print(nested_line['c'][0]['t'])\n",
    "                continue\n",
    "        continue"
   ]
  },
  {
   "cell_type": "code",
   "execution_count": 118,
   "metadata": {},
   "outputs": [],
   "source": [
    "# getting the whole text as a string\n",
    "post_string=\"\"\n",
    "for line in post_text:\n",
    "    try:\n",
    "        post_string+=line['c'][0]['t']\n",
    "    except KeyError:\n",
    "        for nested_line in line['c'][0]['c']:\n",
    "            try:\n",
    "                post_string+= nested_line['t']\n",
    "            except KeyError:\n",
    "                post_string+=nested_line['c'][0]['t']\n",
    "                continue\n",
    "        continue"
   ]
  },
  {
   "cell_type": "code",
   "execution_count": 5,
   "metadata": {},
   "outputs": [],
   "source": [
    "popular_with_text_df =pd.read_csv('popular_reddit_posts_with_whole_text.csv')"
   ]
  },
  {
   "cell_type": "code",
   "execution_count": 7,
   "metadata": {},
   "outputs": [
    {
     "data": {
      "text/html": [
       "<div>\n",
       "<style scoped>\n",
       "    .dataframe tbody tr th:only-of-type {\n",
       "        vertical-align: middle;\n",
       "    }\n",
       "\n",
       "    .dataframe tbody tr th {\n",
       "        vertical-align: top;\n",
       "    }\n",
       "\n",
       "    .dataframe thead th {\n",
       "        text-align: right;\n",
       "    }\n",
       "</style>\n",
       "<table border=\"1\" class=\"dataframe\">\n",
       "  <thead>\n",
       "    <tr style=\"text-align: right;\">\n",
       "      <th></th>\n",
       "      <th>id</th>\n",
       "      <th>title</th>\n",
       "      <th>numComments</th>\n",
       "      <th>score</th>\n",
       "      <th>author</th>\n",
       "      <th>authorId</th>\n",
       "      <th>goldCount</th>\n",
       "      <th>domain</th>\n",
       "      <th>post_text</th>\n",
       "    </tr>\n",
       "  </thead>\n",
       "  <tbody>\n",
       "    <tr>\n",
       "      <th>0</th>\n",
       "      <td>t3_11ia0od</td>\n",
       "      <td>Hi, I’m Keanu Reeves, AMA</td>\n",
       "      <td>32997</td>\n",
       "      <td>290237</td>\n",
       "      <td>lionsgate</td>\n",
       "      <td>t2_2yjg9dt0</td>\n",
       "      <td>21</td>\n",
       "      <td>i.redd.it</td>\n",
       "      <td>NaN</td>\n",
       "    </tr>\n",
       "    <tr>\n",
       "      <th>1</th>\n",
       "      <td>t3_17xhbye</td>\n",
       "      <td>Score MTN DEW® GAME FUEL® and prepare to take ...</td>\n",
       "      <td>0</td>\n",
       "      <td>119</td>\n",
       "      <td>MTNDEWGaming</td>\n",
       "      <td>t2_t4otn2sq</td>\n",
       "      <td>0</td>\n",
       "      <td>mountaindew.com</td>\n",
       "      <td>NaN</td>\n",
       "    </tr>\n",
       "    <tr>\n",
       "      <th>2</th>\n",
       "      <td>t3_144f6xm</td>\n",
       "      <td>📣 Apollo will close down on June 30th. Reddit’...</td>\n",
       "      <td>15438</td>\n",
       "      <td>220413</td>\n",
       "      <td>iamthatis</td>\n",
       "      <td>t2_4mwol</td>\n",
       "      <td>354</td>\n",
       "      <td>self.apolloapp</td>\n",
       "      <td>Hey all,It's been an amazing run thanks to all...</td>\n",
       "    </tr>\n",
       "    <tr>\n",
       "      <th>3</th>\n",
       "      <td>t3_17xjfyu</td>\n",
       "      <td>Left the office &amp; found the neighbors cat in m...</td>\n",
       "      <td>3475</td>\n",
       "      <td>218630</td>\n",
       "      <td>go_fight_kickass</td>\n",
       "      <td>t2_12g6zr</td>\n",
       "      <td>0</td>\n",
       "      <td>i.redd.it</td>\n",
       "      <td>NaN</td>\n",
       "    </tr>\n",
       "    <tr>\n",
       "      <th>4</th>\n",
       "      <td>t3_10lcvuy</td>\n",
       "      <td>Trust the process guys</td>\n",
       "      <td>4228</td>\n",
       "      <td>218095</td>\n",
       "      <td>ThoumasTurbando</td>\n",
       "      <td>t2_usejv7ts</td>\n",
       "      <td>3</td>\n",
       "      <td>v.redd.it</td>\n",
       "      <td>NaN</td>\n",
       "    </tr>\n",
       "  </tbody>\n",
       "</table>\n",
       "</div>"
      ],
      "text/plain": [
       "           id                                              title  numComments  \\\n",
       "0  t3_11ia0od                          Hi, I’m Keanu Reeves, AMA        32997   \n",
       "1  t3_17xhbye  Score MTN DEW® GAME FUEL® and prepare to take ...            0   \n",
       "2  t3_144f6xm  📣 Apollo will close down on June 30th. Reddit’...        15438   \n",
       "3  t3_17xjfyu  Left the office & found the neighbors cat in m...         3475   \n",
       "4  t3_10lcvuy                             Trust the process guys         4228   \n",
       "\n",
       "    score            author     authorId  goldCount           domain  \\\n",
       "0  290237         lionsgate  t2_2yjg9dt0         21        i.redd.it   \n",
       "1     119      MTNDEWGaming  t2_t4otn2sq          0  mountaindew.com   \n",
       "2  220413         iamthatis     t2_4mwol        354   self.apolloapp   \n",
       "3  218630  go_fight_kickass    t2_12g6zr          0        i.redd.it   \n",
       "4  218095   ThoumasTurbando  t2_usejv7ts          3        v.redd.it   \n",
       "\n",
       "                                           post_text  \n",
       "0                                                NaN  \n",
       "1                                                NaN  \n",
       "2  Hey all,It's been an amazing run thanks to all...  \n",
       "3                                                NaN  \n",
       "4                                                NaN  "
      ]
     },
     "execution_count": 7,
     "metadata": {},
     "output_type": "execute_result"
    }
   ],
   "source": [
    "popular_with_text_df.head()"
   ]
  },
  {
   "cell_type": "markdown",
   "metadata": {},
   "source": [
    "### Trying to get other posts' whole text"
   ]
  },
  {
   "cell_type": "code",
   "execution_count": 130,
   "metadata": {},
   "outputs": [],
   "source": [
    "querystring = {\"post_id\":\"t3_13n65xa\"}\n",
    "\n",
    "headers = {\n",
    "\t\"X-RapidAPI-Key\": api_key.RAPID_API_KEY,\n",
    "\t\"X-RapidAPI-Host\": constants.RAPID_API_HOST\n",
    "}\n",
    "\n",
    "response_2 = requests.get(constants.BASE_URL+POST_DETAILS_END_POINT, headers=headers, params=querystring)\n",
    "\n",
    "post_detail_2 = response_2.json()"
   ]
  },
  {
   "cell_type": "code",
   "execution_count": 131,
   "metadata": {},
   "outputs": [
    {
     "data": {
      "text/plain": [
       "{'obfuscated': None,\n",
       " 'richtextContent': {'document': []},\n",
       " 'rteMode': 'richtext',\n",
       " 'hlsUrl': 'https://v.redd.it/hh4izuoxm11b1/HLSPlaylist.m3u8?a=1706010255%2CN2VlYmEwM2Q1Njg2Y2M0YTcxOTc2NmMxMjdmZjc1MzYzMTZiZTZlMjVlOTNhMDUxM2ZkM2EzYWQyYWEwNzkwMg%3D%3D&v=1&f=sd',\n",
       " 'dashUrl': 'https://v.redd.it/hh4izuoxm11b1/DASHPlaylist.mpd?a=1706010255%2CMmQxYTc1NzE5ZDI1MGQ1NTM1NmE3NmVkN2RlM2Y3NmY4OTMyZmRjYzUxYWJiOGIwZGUxN2JmZDBmYjkwYmRiZg%3D%3D&v=1&f=sd',\n",
       " 'isGif': False,\n",
       " 'scrubberThumbSource': 'https://v.redd.it/hh4izuoxm11b1/DASH_96.mp4',\n",
       " 'posterUrl': 'https://external-preview.redd.it/rZ2yn4NXCxL11fG4lgBZOcUkyZPfDdcZZFOFwmvLAdA.png?width=640&crop=smart&format=pjpg&auto=webp&s=9914940de84db96f70ebc6577015a85fcddeb66f',\n",
       " 'width': 402,\n",
       " 'height': 720,\n",
       " 'type': 'video'}"
      ]
     },
     "execution_count": 131,
     "metadata": {},
     "output_type": "execute_result"
    }
   ],
   "source": [
    "post_detail_2['data']['media']"
   ]
  },
  {
   "cell_type": "markdown",
   "metadata": {},
   "source": [
    "### post text is usually empty because of that it returns nan"
   ]
  }
 ],
 "metadata": {
  "kernelspec": {
   "display_name": "Python 3",
   "language": "python",
   "name": "python3"
  },
  "language_info": {
   "codemirror_mode": {
    "name": "ipython",
    "version": 3
   },
   "file_extension": ".py",
   "mimetype": "text/x-python",
   "name": "python",
   "nbconvert_exporter": "python",
   "pygments_lexer": "ipython3",
   "version": "3.10.13"
  }
 },
 "nbformat": 4,
 "nbformat_minor": 2
}
