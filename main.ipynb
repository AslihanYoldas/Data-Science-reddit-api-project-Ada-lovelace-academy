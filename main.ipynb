{
 "cells": [
  {
   "cell_type": "code",
   "execution_count": 1,
   "metadata": {},
   "outputs": [],
   "source": [
    "import requests\n",
    "import pandas as pd\n",
    "from config import constants,api_key\n",
    "import module"
   ]
  },
  {
   "cell_type": "code",
   "execution_count": 5,
   "metadata": {},
   "outputs": [],
   "source": [
    "POPULAR_POST_ENDPOINT = \"/getTopPopularPosts\""
   ]
  },
  {
   "cell_type": "markdown",
   "metadata": {},
   "source": [
    "## Making API call to Reddit api"
   ]
  },
  {
   "cell_type": "code",
   "execution_count": null,
   "metadata": {},
   "outputs": [],
   "source": [
    "\n",
    "querystring = {\"time\":\"year\"}# required parameter\n",
    "headers = {\n",
    "\t\"X-RapidAPI-Key\": api_key.RAPID_API_KEY,\n",
    "\t\"X-RapidAPI-Host\": constants.RAPID_API_HOST\n",
    "}\n",
    "response = requests.get(constants.BASE_URL + POPULAR_POST_ENDPOINT, headers=headers, params=querystring)\n"
   ]
  },
  {
   "cell_type": "code",
   "execution_count": 7,
   "metadata": {},
   "outputs": [],
   "source": [
    "data_popular = response.json()"
   ]
  },
  {
   "cell_type": "code",
   "execution_count": null,
   "metadata": {},
   "outputs": [],
   "source": [
    "for post in data_popular['data']['posts']:\n",
    "    print(post['id'])\n",
    "    print(post['title'])\n",
    "    print(post['numComments'])\n",
    "    print(post['score'])\n",
    "    print(post['author'])\n",
    "    print(post['authorId'])\n",
    "    print(post['goldCount'])\n",
    "    print(post['domain'])\n",
    "    print(\"\\n\")"
   ]
  },
  {
   "cell_type": "markdown",
   "metadata": {},
   "source": [
    "## Turning into data frame"
   ]
  },
  {
   "cell_type": "code",
   "execution_count": 37,
   "metadata": {},
   "outputs": [],
   "source": [
    "popular_posts =[]\n",
    "for post in data_popular['data']['posts']:\n",
    "    popular_post= {\n",
    "        \"id\":post['id'],\n",
    "        \"title\":post['title'],\n",
    "        \"numComments\":post['numComments'],\n",
    "        \"score\":post['score'],\n",
    "        \"author\":post['author'],\n",
    "        \"authorId\":post['authorId'],\n",
    "        \"goldCount\":post['goldCount'],\n",
    "        \"domain\":post['domain']}\n",
    "    popular_posts.append(popular_post)\n",
    "\n",
    "popular_posts_df = pd.DataFrame(popular_posts)"
   ]
  },
  {
   "cell_type": "code",
   "execution_count": 4,
   "metadata": {},
   "outputs": [
    {
     "data": {
      "text/html": [
       "<div>\n",
       "<style scoped>\n",
       "    .dataframe tbody tr th:only-of-type {\n",
       "        vertical-align: middle;\n",
       "    }\n",
       "\n",
       "    .dataframe tbody tr th {\n",
       "        vertical-align: top;\n",
       "    }\n",
       "\n",
       "    .dataframe thead th {\n",
       "        text-align: right;\n",
       "    }\n",
       "</style>\n",
       "<table border=\"1\" class=\"dataframe\">\n",
       "  <thead>\n",
       "    <tr style=\"text-align: right;\">\n",
       "      <th></th>\n",
       "      <th>id</th>\n",
       "      <th>title</th>\n",
       "      <th>numComments</th>\n",
       "      <th>score</th>\n",
       "      <th>author</th>\n",
       "      <th>authorId</th>\n",
       "      <th>goldCount</th>\n",
       "      <th>domain</th>\n",
       "    </tr>\n",
       "  </thead>\n",
       "  <tbody>\n",
       "    <tr>\n",
       "      <th>0</th>\n",
       "      <td>t3_11ia0od</td>\n",
       "      <td>Hi, I’m Keanu Reeves, AMA</td>\n",
       "      <td>32997</td>\n",
       "      <td>290221</td>\n",
       "      <td>lionsgate</td>\n",
       "      <td>t2_2yjg9dt0</td>\n",
       "      <td>21</td>\n",
       "      <td>i.redd.it</td>\n",
       "    </tr>\n",
       "    <tr>\n",
       "      <th>1</th>\n",
       "      <td>t3_187p59c</td>\n",
       "      <td>YSK MTN DEW GAME FUEL is back! Partnering with...</td>\n",
       "      <td>0</td>\n",
       "      <td>0</td>\n",
       "      <td>MTNDEWGaming</td>\n",
       "      <td>t2_t4otn2sq</td>\n",
       "      <td>0</td>\n",
       "      <td>mountaindew.com</td>\n",
       "    </tr>\n",
       "    <tr>\n",
       "      <th>2</th>\n",
       "      <td>t3_144f6xm</td>\n",
       "      <td>📣 Apollo will close down on June 30th. Reddit’...</td>\n",
       "      <td>15438</td>\n",
       "      <td>220416</td>\n",
       "      <td>iamthatis</td>\n",
       "      <td>t2_4mwol</td>\n",
       "      <td>354</td>\n",
       "      <td>self.apolloapp</td>\n",
       "    </tr>\n",
       "    <tr>\n",
       "      <th>3</th>\n",
       "      <td>t3_17xjfyu</td>\n",
       "      <td>Left the office &amp; found the neighbors cat in m...</td>\n",
       "      <td>3475</td>\n",
       "      <td>218627</td>\n",
       "      <td>go_fight_kickass</td>\n",
       "      <td>t2_12g6zr</td>\n",
       "      <td>0</td>\n",
       "      <td>i.redd.it</td>\n",
       "    </tr>\n",
       "    <tr>\n",
       "      <th>4</th>\n",
       "      <td>t3_10lcvuy</td>\n",
       "      <td>Trust the process guys</td>\n",
       "      <td>4228</td>\n",
       "      <td>218095</td>\n",
       "      <td>ThoumasTurbando</td>\n",
       "      <td>t2_usejv7ts</td>\n",
       "      <td>3</td>\n",
       "      <td>v.redd.it</td>\n",
       "    </tr>\n",
       "  </tbody>\n",
       "</table>\n",
       "</div>"
      ],
      "text/plain": [
       "           id                                              title  numComments  \\\n",
       "0  t3_11ia0od                          Hi, I’m Keanu Reeves, AMA        32997   \n",
       "1  t3_187p59c  YSK MTN DEW GAME FUEL is back! Partnering with...            0   \n",
       "2  t3_144f6xm  📣 Apollo will close down on June 30th. Reddit’...        15438   \n",
       "3  t3_17xjfyu  Left the office & found the neighbors cat in m...         3475   \n",
       "4  t3_10lcvuy                             Trust the process guys         4228   \n",
       "\n",
       "    score            author     authorId  goldCount           domain  \n",
       "0  290221         lionsgate  t2_2yjg9dt0         21        i.redd.it  \n",
       "1       0      MTNDEWGaming  t2_t4otn2sq          0  mountaindew.com  \n",
       "2  220416         iamthatis     t2_4mwol        354   self.apolloapp  \n",
       "3  218627  go_fight_kickass    t2_12g6zr          0        i.redd.it  \n",
       "4  218095   ThoumasTurbando  t2_usejv7ts          3        v.redd.it  "
      ]
     },
     "execution_count": 4,
     "metadata": {},
     "output_type": "execute_result"
    }
   ],
   "source": [
    "popular_posts_df.head()"
   ]
  },
  {
   "cell_type": "code",
   "execution_count": 41,
   "metadata": {},
   "outputs": [],
   "source": [
    "# Saving csv file\n",
    "popular_posts_df.to_csv(\"popular_posts.csv\",index=False)"
   ]
  },
  {
   "cell_type": "markdown",
   "metadata": {},
   "source": [
    "## Get post details"
   ]
  },
  {
   "cell_type": "code",
   "execution_count": 44,
   "metadata": {},
   "outputs": [],
   "source": [
    "POST_DETAILS_ENDPOINT = \"/getPostDetails\"\n",
    "\n",
    "querystring = {\"post_id\":\"t3_144f6xm\"}\n",
    "\n",
    "headers = {\n",
    "\t\"X-RapidAPI-Key\": api_key.RAPID_API_KEY,\n",
    "\t\"X-RapidAPI-Host\": constants.RAPID_API_HOST\n",
    "}\n",
    "\n",
    "response = requests.get(constants.BASE_URL+POST_DETAILS_ENDPOINT, headers=headers, params=querystring)\n",
    "\n",
    "post_detail = response.json()"
   ]
  },
  {
   "cell_type": "code",
   "execution_count": 114,
   "metadata": {},
   "outputs": [],
   "source": [
    "post_text=post_detail['data']['media']['richtextContent']['document']"
   ]
  },
  {
   "cell_type": "code",
   "execution_count": 99,
   "metadata": {},
   "outputs": [
    {
     "name": "stdout",
     "output_type": "stream",
     "text": [
      "{'c': [{'e': 'text', 't': \"I don't want Reddit slandering me to internal employees or public people by saying I threatened them when they reality is that they immediately apologized for misunderstanding me.\"}], 'e': 'par'}\n"
     ]
    }
   ],
   "source": [
    "# Gettin Key error because of nested text\n",
    "# Trying to understand hierachy\n",
    "for line in post_text:\n",
    "    try:\n",
    "        a =line['c'][0]['t']\n",
    "    except KeyError:\n",
    "        for nested_line in line['c'][0]['c']:\n",
    "            try:\n",
    "                a= nested_line['t']\n",
    "            except:\n",
    "                print(nested_line)\n",
    "                continue\n",
    "        continue"
   ]
  },
  {
   "cell_type": "code",
   "execution_count": null,
   "metadata": {},
   "outputs": [],
   "source": [
    "# Getting the full post text\n",
    "for line in post_text:\n",
    "    try:\n",
    "        print(line['c'][0]['t'])\n",
    "    except KeyError:\n",
    "        for nested_line in line['c'][0]['c']:\n",
    "            try:\n",
    "                print( nested_line['t'])\n",
    "            except KeyError:\n",
    "                print(nested_line['c'][0]['t'])\n",
    "                continue\n",
    "        continue"
   ]
  },
  {
   "cell_type": "code",
   "execution_count": 118,
   "metadata": {},
   "outputs": [],
   "source": [
    "# getting the whole text as a string\n",
    "post_string=\"\"\n",
    "for line in post_text:\n",
    "    try:\n",
    "        post_string+=line['c'][0]['t']\n",
    "    except KeyError:\n",
    "        for nested_line in line['c'][0]['c']:\n",
    "            try:\n",
    "                post_string+= nested_line['t']\n",
    "            except KeyError:\n",
    "                post_string+=nested_line['c'][0]['t']\n",
    "                continue\n",
    "        continue"
   ]
  },
  {
   "cell_type": "code",
   "execution_count": 5,
   "metadata": {},
   "outputs": [],
   "source": [
    "popular_with_text_df =pd.read_csv('popular_reddit_posts_with_whole_text.csv')"
   ]
  },
  {
   "cell_type": "code",
   "execution_count": 7,
   "metadata": {},
   "outputs": [
    {
     "data": {
      "text/html": [
       "<div>\n",
       "<style scoped>\n",
       "    .dataframe tbody tr th:only-of-type {\n",
       "        vertical-align: middle;\n",
       "    }\n",
       "\n",
       "    .dataframe tbody tr th {\n",
       "        vertical-align: top;\n",
       "    }\n",
       "\n",
       "    .dataframe thead th {\n",
       "        text-align: right;\n",
       "    }\n",
       "</style>\n",
       "<table border=\"1\" class=\"dataframe\">\n",
       "  <thead>\n",
       "    <tr style=\"text-align: right;\">\n",
       "      <th></th>\n",
       "      <th>id</th>\n",
       "      <th>title</th>\n",
       "      <th>numComments</th>\n",
       "      <th>score</th>\n",
       "      <th>author</th>\n",
       "      <th>authorId</th>\n",
       "      <th>goldCount</th>\n",
       "      <th>domain</th>\n",
       "      <th>post_text</th>\n",
       "    </tr>\n",
       "  </thead>\n",
       "  <tbody>\n",
       "    <tr>\n",
       "      <th>0</th>\n",
       "      <td>t3_11ia0od</td>\n",
       "      <td>Hi, I’m Keanu Reeves, AMA</td>\n",
       "      <td>32997</td>\n",
       "      <td>290237</td>\n",
       "      <td>lionsgate</td>\n",
       "      <td>t2_2yjg9dt0</td>\n",
       "      <td>21</td>\n",
       "      <td>i.redd.it</td>\n",
       "      <td>NaN</td>\n",
       "    </tr>\n",
       "    <tr>\n",
       "      <th>1</th>\n",
       "      <td>t3_17xhbye</td>\n",
       "      <td>Score MTN DEW® GAME FUEL® and prepare to take ...</td>\n",
       "      <td>0</td>\n",
       "      <td>119</td>\n",
       "      <td>MTNDEWGaming</td>\n",
       "      <td>t2_t4otn2sq</td>\n",
       "      <td>0</td>\n",
       "      <td>mountaindew.com</td>\n",
       "      <td>NaN</td>\n",
       "    </tr>\n",
       "    <tr>\n",
       "      <th>2</th>\n",
       "      <td>t3_144f6xm</td>\n",
       "      <td>📣 Apollo will close down on June 30th. Reddit’...</td>\n",
       "      <td>15438</td>\n",
       "      <td>220413</td>\n",
       "      <td>iamthatis</td>\n",
       "      <td>t2_4mwol</td>\n",
       "      <td>354</td>\n",
       "      <td>self.apolloapp</td>\n",
       "      <td>Hey all,It's been an amazing run thanks to all...</td>\n",
       "    </tr>\n",
       "    <tr>\n",
       "      <th>3</th>\n",
       "      <td>t3_17xjfyu</td>\n",
       "      <td>Left the office &amp; found the neighbors cat in m...</td>\n",
       "      <td>3475</td>\n",
       "      <td>218630</td>\n",
       "      <td>go_fight_kickass</td>\n",
       "      <td>t2_12g6zr</td>\n",
       "      <td>0</td>\n",
       "      <td>i.redd.it</td>\n",
       "      <td>NaN</td>\n",
       "    </tr>\n",
       "    <tr>\n",
       "      <th>4</th>\n",
       "      <td>t3_10lcvuy</td>\n",
       "      <td>Trust the process guys</td>\n",
       "      <td>4228</td>\n",
       "      <td>218095</td>\n",
       "      <td>ThoumasTurbando</td>\n",
       "      <td>t2_usejv7ts</td>\n",
       "      <td>3</td>\n",
       "      <td>v.redd.it</td>\n",
       "      <td>NaN</td>\n",
       "    </tr>\n",
       "  </tbody>\n",
       "</table>\n",
       "</div>"
      ],
      "text/plain": [
       "           id                                              title  numComments  \\\n",
       "0  t3_11ia0od                          Hi, I’m Keanu Reeves, AMA        32997   \n",
       "1  t3_17xhbye  Score MTN DEW® GAME FUEL® and prepare to take ...            0   \n",
       "2  t3_144f6xm  📣 Apollo will close down on June 30th. Reddit’...        15438   \n",
       "3  t3_17xjfyu  Left the office & found the neighbors cat in m...         3475   \n",
       "4  t3_10lcvuy                             Trust the process guys         4228   \n",
       "\n",
       "    score            author     authorId  goldCount           domain  \\\n",
       "0  290237         lionsgate  t2_2yjg9dt0         21        i.redd.it   \n",
       "1     119      MTNDEWGaming  t2_t4otn2sq          0  mountaindew.com   \n",
       "2  220413         iamthatis     t2_4mwol        354   self.apolloapp   \n",
       "3  218630  go_fight_kickass    t2_12g6zr          0        i.redd.it   \n",
       "4  218095   ThoumasTurbando  t2_usejv7ts          3        v.redd.it   \n",
       "\n",
       "                                           post_text  \n",
       "0                                                NaN  \n",
       "1                                                NaN  \n",
       "2  Hey all,It's been an amazing run thanks to all...  \n",
       "3                                                NaN  \n",
       "4                                                NaN  "
      ]
     },
     "execution_count": 7,
     "metadata": {},
     "output_type": "execute_result"
    }
   ],
   "source": [
    "popular_with_text_df.head()"
   ]
  },
  {
   "cell_type": "markdown",
   "metadata": {},
   "source": [
    "### Trying to get other posts' whole text"
   ]
  },
  {
   "cell_type": "code",
   "execution_count": 130,
   "metadata": {},
   "outputs": [],
   "source": [
    "querystring = {\"post_id\":\"t3_13n65xa\"}\n",
    "\n",
    "headers = {\n",
    "\t\"X-RapidAPI-Key\": api_key.RAPID_API_KEY,\n",
    "\t\"X-RapidAPI-Host\": constants.RAPID_API_HOST\n",
    "}\n",
    "\n",
    "response_2 = requests.get(constants.BASE_URL+POST_DETAILS_END_POINT, headers=headers, params=querystring)\n",
    "\n",
    "post_detail_2 = response_2.json()"
   ]
  },
  {
   "cell_type": "code",
   "execution_count": 131,
   "metadata": {},
   "outputs": [
    {
     "data": {
      "text/plain": [
       "{'obfuscated': None,\n",
       " 'richtextContent': {'document': []},\n",
       " 'rteMode': 'richtext',\n",
       " 'hlsUrl': 'https://v.redd.it/hh4izuoxm11b1/HLSPlaylist.m3u8?a=1706010255%2CN2VlYmEwM2Q1Njg2Y2M0YTcxOTc2NmMxMjdmZjc1MzYzMTZiZTZlMjVlOTNhMDUxM2ZkM2EzYWQyYWEwNzkwMg%3D%3D&v=1&f=sd',\n",
       " 'dashUrl': 'https://v.redd.it/hh4izuoxm11b1/DASHPlaylist.mpd?a=1706010255%2CMmQxYTc1NzE5ZDI1MGQ1NTM1NmE3NmVkN2RlM2Y3NmY4OTMyZmRjYzUxYWJiOGIwZGUxN2JmZDBmYjkwYmRiZg%3D%3D&v=1&f=sd',\n",
       " 'isGif': False,\n",
       " 'scrubberThumbSource': 'https://v.redd.it/hh4izuoxm11b1/DASH_96.mp4',\n",
       " 'posterUrl': 'https://external-preview.redd.it/rZ2yn4NXCxL11fG4lgBZOcUkyZPfDdcZZFOFwmvLAdA.png?width=640&crop=smart&format=pjpg&auto=webp&s=9914940de84db96f70ebc6577015a85fcddeb66f',\n",
       " 'width': 402,\n",
       " 'height': 720,\n",
       " 'type': 'video'}"
      ]
     },
     "execution_count": 131,
     "metadata": {},
     "output_type": "execute_result"
    }
   ],
   "source": [
    "post_detail_2['data']['media']"
   ]
  },
  {
   "cell_type": "markdown",
   "metadata": {},
   "source": [
    "### post text is usually empty because of that it returns nan"
   ]
  },
  {
   "cell_type": "code",
   "execution_count": 2,
   "metadata": {},
   "outputs": [],
   "source": [
    "SUBREDDIT_POSTS_ENDPOINT = \"/getPostsBySubreddit\"\n",
    "querystring = {\"subreddit\":\"datascience\",\"sort\":\"new\"}\n",
    "\n",
    "headers = {\n",
    "\t\"X-RapidAPI-Key\": api_key.RAPID_API_KEY,\n",
    "\t\"X-RapidAPI-Host\": constants.RAPID_API_HOST\n",
    "}\n",
    "\n",
    "response = requests.get(constants.BASE_URL+SUBREDDIT_POSTS_ENDPOINT, headers=headers, params=querystring)\n",
    "\n"
   ]
  },
  {
   "cell_type": "code",
   "execution_count": 3,
   "metadata": {},
   "outputs": [],
   "source": [
    "data_science_posts = response.json()"
   ]
  },
  {
   "cell_type": "code",
   "execution_count": 4,
   "metadata": {},
   "outputs": [],
   "source": [
    "ds_posts =[]\n",
    "for post in data_science_posts['data']['posts']:\n",
    "    ds_post= {\n",
    "        \"id\":post['id'],\n",
    "        \"title\":post['title'],\n",
    "        \"numComments\":post['numComments'],\n",
    "        \"score\":post['score'],\n",
    "        \"author\":post['author'],\n",
    "        \"authorId\":post['authorId'],\n",
    "        \"goldCount\":post['goldCount'],\n",
    "        \"domain\":post['domain']}\n",
    "    ds_posts.append(ds_post)\n",
    "\n",
    "ds_posts_df = pd.DataFrame(ds_posts)"
   ]
  },
  {
   "cell_type": "code",
   "execution_count": 5,
   "metadata": {},
   "outputs": [
    {
     "data": {
      "text/html": [
       "<div>\n",
       "<style scoped>\n",
       "    .dataframe tbody tr th:only-of-type {\n",
       "        vertical-align: middle;\n",
       "    }\n",
       "\n",
       "    .dataframe tbody tr th {\n",
       "        vertical-align: top;\n",
       "    }\n",
       "\n",
       "    .dataframe thead th {\n",
       "        text-align: right;\n",
       "    }\n",
       "</style>\n",
       "<table border=\"1\" class=\"dataframe\">\n",
       "  <thead>\n",
       "    <tr style=\"text-align: right;\">\n",
       "      <th></th>\n",
       "      <th>id</th>\n",
       "      <th>title</th>\n",
       "      <th>numComments</th>\n",
       "      <th>score</th>\n",
       "      <th>author</th>\n",
       "      <th>authorId</th>\n",
       "      <th>goldCount</th>\n",
       "      <th>domain</th>\n",
       "    </tr>\n",
       "  </thead>\n",
       "  <tbody>\n",
       "    <tr>\n",
       "      <th>0</th>\n",
       "      <td>t3_18qtaid</td>\n",
       "      <td>Probability reference book for data science pr...</td>\n",
       "      <td>19</td>\n",
       "      <td>50</td>\n",
       "      <td>HStuart18</td>\n",
       "      <td>t2_xfx8ms4</td>\n",
       "      <td>0</td>\n",
       "      <td>self.datascience</td>\n",
       "    </tr>\n",
       "    <tr>\n",
       "      <th>1</th>\n",
       "      <td>t3_18qrkqj</td>\n",
       "      <td>Have an upcoming interview for a data analyst ...</td>\n",
       "      <td>23</td>\n",
       "      <td>21</td>\n",
       "      <td>Impossible-Cry-495</td>\n",
       "      <td>t2_903k40ag</td>\n",
       "      <td>0</td>\n",
       "      <td>self.datascience</td>\n",
       "    </tr>\n",
       "    <tr>\n",
       "      <th>2</th>\n",
       "      <td>t3_18qbsme</td>\n",
       "      <td>Weekly Entering &amp; Transitioning - Thread 25 De...</td>\n",
       "      <td>5</td>\n",
       "      <td>6</td>\n",
       "      <td>AutoModerator</td>\n",
       "      <td>t2_6l4z3</td>\n",
       "      <td>0</td>\n",
       "      <td>self.datascience</td>\n",
       "    </tr>\n",
       "    <tr>\n",
       "      <th>3</th>\n",
       "      <td>t3_18q5xz2</td>\n",
       "      <td>Should I work over Christmas to fix my code, o...</td>\n",
       "      <td>47</td>\n",
       "      <td>48</td>\n",
       "      <td>ManagementObvious631</td>\n",
       "      <td>t2_9rp766xc1</td>\n",
       "      <td>0</td>\n",
       "      <td>self.datascience</td>\n",
       "    </tr>\n",
       "    <tr>\n",
       "      <th>4</th>\n",
       "      <td>t3_18q5vq6</td>\n",
       "      <td>PyTorch LSTM for time series</td>\n",
       "      <td>29</td>\n",
       "      <td>15</td>\n",
       "      <td>medylan</td>\n",
       "      <td>t2_44oxrfns</td>\n",
       "      <td>0</td>\n",
       "      <td>self.datascience</td>\n",
       "    </tr>\n",
       "  </tbody>\n",
       "</table>\n",
       "</div>"
      ],
      "text/plain": [
       "           id                                              title  numComments  \\\n",
       "0  t3_18qtaid  Probability reference book for data science pr...           19   \n",
       "1  t3_18qrkqj  Have an upcoming interview for a data analyst ...           23   \n",
       "2  t3_18qbsme  Weekly Entering & Transitioning - Thread 25 De...            5   \n",
       "3  t3_18q5xz2  Should I work over Christmas to fix my code, o...           47   \n",
       "4  t3_18q5vq6                       PyTorch LSTM for time series           29   \n",
       "\n",
       "   score                author      authorId  goldCount            domain  \n",
       "0     50             HStuart18    t2_xfx8ms4          0  self.datascience  \n",
       "1     21    Impossible-Cry-495   t2_903k40ag          0  self.datascience  \n",
       "2      6         AutoModerator      t2_6l4z3          0  self.datascience  \n",
       "3     48  ManagementObvious631  t2_9rp766xc1          0  self.datascience  \n",
       "4     15               medylan   t2_44oxrfns          0  self.datascience  "
      ]
     },
     "execution_count": 5,
     "metadata": {},
     "output_type": "execute_result"
    }
   ],
   "source": [
    "ds_posts_df.head()"
   ]
  },
  {
   "cell_type": "code",
   "execution_count": 9,
   "metadata": {},
   "outputs": [],
   "source": [
    "ds_posts_df.to_csv(\"data_science_posts.csv\", index=False)"
   ]
  },
  {
   "cell_type": "code",
   "execution_count": 14,
   "metadata": {},
   "outputs": [],
   "source": [
    "def get_post_text(post_text):\n",
    "    post_string=\"\"\n",
    "    for line in post_text:\n",
    "        post_string+=line['c'][0]['t']\n",
    "    return post_string"
   ]
  },
  {
   "cell_type": "code",
   "execution_count": 15,
   "metadata": {},
   "outputs": [],
   "source": [
    "post_1 = data_science_posts['data']['posts'][1]"
   ]
  },
  {
   "cell_type": "code",
   "execution_count": 16,
   "metadata": {},
   "outputs": [
    {
     "data": {
      "text/plain": [
       "'I have an interview at a company called Airbus. This would be my first interview specifically for a data analyst role. What should I expect?'"
      ]
     },
     "execution_count": 16,
     "metadata": {},
     "output_type": "execute_result"
    }
   ],
   "source": [
    "get_post_text(post_1['media']['richtextContent']['document'])"
   ]
  },
  {
   "cell_type": "code",
   "execution_count": 17,
   "metadata": {},
   "outputs": [
    {
     "ename": "KeyError",
     "evalue": "'t'",
     "output_type": "error",
     "traceback": [
      "\u001b[1;31m---------------------------------------------------------------------------\u001b[0m",
      "\u001b[1;31mKeyError\u001b[0m                                  Traceback (most recent call last)",
      "Cell \u001b[1;32mIn[17], line 1\u001b[0m\n\u001b[1;32m----> 1\u001b[0m post_texts \u001b[38;5;241m=\u001b[39m [get_post_text(post[\u001b[38;5;124m'\u001b[39m\u001b[38;5;124mmedia\u001b[39m\u001b[38;5;124m'\u001b[39m][\u001b[38;5;124m'\u001b[39m\u001b[38;5;124mrichtextContent\u001b[39m\u001b[38;5;124m'\u001b[39m][\u001b[38;5;124m'\u001b[39m\u001b[38;5;124mdocument\u001b[39m\u001b[38;5;124m'\u001b[39m]) \u001b[38;5;28;01mfor\u001b[39;00m post \u001b[38;5;129;01min\u001b[39;00m data_science_posts[\u001b[38;5;124m'\u001b[39m\u001b[38;5;124mdata\u001b[39m\u001b[38;5;124m'\u001b[39m][\u001b[38;5;124m'\u001b[39m\u001b[38;5;124mposts\u001b[39m\u001b[38;5;124m'\u001b[39m]]\n",
      "Cell \u001b[1;32mIn[17], line 1\u001b[0m, in \u001b[0;36m<listcomp>\u001b[1;34m(.0)\u001b[0m\n\u001b[1;32m----> 1\u001b[0m post_texts \u001b[38;5;241m=\u001b[39m [\u001b[43mget_post_text\u001b[49m\u001b[43m(\u001b[49m\u001b[43mpost\u001b[49m\u001b[43m[\u001b[49m\u001b[38;5;124;43m'\u001b[39;49m\u001b[38;5;124;43mmedia\u001b[39;49m\u001b[38;5;124;43m'\u001b[39;49m\u001b[43m]\u001b[49m\u001b[43m[\u001b[49m\u001b[38;5;124;43m'\u001b[39;49m\u001b[38;5;124;43mrichtextContent\u001b[39;49m\u001b[38;5;124;43m'\u001b[39;49m\u001b[43m]\u001b[49m\u001b[43m[\u001b[49m\u001b[38;5;124;43m'\u001b[39;49m\u001b[38;5;124;43mdocument\u001b[39;49m\u001b[38;5;124;43m'\u001b[39;49m\u001b[43m]\u001b[49m\u001b[43m)\u001b[49m \u001b[38;5;28;01mfor\u001b[39;00m post \u001b[38;5;129;01min\u001b[39;00m data_science_posts[\u001b[38;5;124m'\u001b[39m\u001b[38;5;124mdata\u001b[39m\u001b[38;5;124m'\u001b[39m][\u001b[38;5;124m'\u001b[39m\u001b[38;5;124mposts\u001b[39m\u001b[38;5;124m'\u001b[39m]]\n",
      "Cell \u001b[1;32mIn[14], line 4\u001b[0m, in \u001b[0;36mget_post_text\u001b[1;34m(post_text)\u001b[0m\n\u001b[0;32m      2\u001b[0m post_string\u001b[38;5;241m=\u001b[39m\u001b[38;5;124m\"\u001b[39m\u001b[38;5;124m\"\u001b[39m\n\u001b[0;32m      3\u001b[0m \u001b[38;5;28;01mfor\u001b[39;00m line \u001b[38;5;129;01min\u001b[39;00m post_text:\n\u001b[1;32m----> 4\u001b[0m     post_string\u001b[38;5;241m+\u001b[39m\u001b[38;5;241m=\u001b[39m\u001b[43mline\u001b[49m\u001b[43m[\u001b[49m\u001b[38;5;124;43m'\u001b[39;49m\u001b[38;5;124;43mc\u001b[39;49m\u001b[38;5;124;43m'\u001b[39;49m\u001b[43m]\u001b[49m\u001b[43m[\u001b[49m\u001b[38;5;241;43m0\u001b[39;49m\u001b[43m]\u001b[49m\u001b[43m[\u001b[49m\u001b[38;5;124;43m'\u001b[39;49m\u001b[38;5;124;43mt\u001b[39;49m\u001b[38;5;124;43m'\u001b[39;49m\u001b[43m]\u001b[49m\n\u001b[0;32m      5\u001b[0m \u001b[38;5;28;01mreturn\u001b[39;00m post_string\n",
      "\u001b[1;31mKeyError\u001b[0m: 't'"
     ]
    }
   ],
   "source": [
    "post_texts = [get_post_text(post['media']['richtextContent']['document']) for post in data_science_posts['data']['posts']]\n"
   ]
  },
  {
   "cell_type": "code",
   "execution_count": 140,
   "metadata": {},
   "outputs": [],
   "source": [
    "def get_post_text(post_text):\n",
    "    post_string=\"\"\n",
    "    if (len(post_text) == 0):\n",
    "        return \"None\"\n",
    "   \n",
    "    for text in post_text: \n",
    "        try: \n",
    "           for line in text['c']:\n",
    "               \n",
    "               a= line['t']\n",
    "               \n",
    "        except KeyError:\n",
    "            try:\n",
    "                for sentence in line['c']:\n",
    "                    print(sentence['c'][0]['t'])\n",
    "            except:\n",
    "                continue # for the 'e' key that we dont need\n",
    "        \n",
    "        \n",
    "    return post_string"
   ]
  },
  {
   "cell_type": "code",
   "execution_count": 141,
   "metadata": {},
   "outputs": [
    {
     "name": "stdout",
     "output_type": "stream",
     "text": [
      "Motivates different concepts and does not just show definition-proof-definition-proof\n",
      "Learning resources (e.g. books, tutorials, videos)\n",
      "Code complexity: For each use of a Transformer, we have to go through initialization, fit_transform, and transform steps. Missing one step during a transformation could derail the entire training process.\n",
      "Where and how should I output my jupyter created dataframes so that anyone can connect to them\n"
     ]
    }
   ],
   "source": [
    "post_texts = [get_post_text(post['media']['richtextContent']['document']) for post in data_science_posts['data']['posts']]\n"
   ]
  },
  {
   "cell_type": "code",
   "execution_count": 143,
   "metadata": {},
   "outputs": [],
   "source": [
    "def get_post_text(post_text):\n",
    "    post_string=\"\"\n",
    "    if (len(post_text) == 0):\n",
    "        return \"None\"\n",
    "   \n",
    "    for text in post_text: \n",
    "        try: \n",
    "           for line in text['c']:\n",
    "               \n",
    "               post_string+= line['t']\n",
    "               \n",
    "        except KeyError:\n",
    "            try:\n",
    "                for sentence in line['c']:\n",
    "                    post_string += sentence['c'][0]['t']\n",
    "            except:\n",
    "                continue # for the 'e' key that we dont need\n",
    "        \n",
    "        \n",
    "    return post_string"
   ]
  },
  {
   "cell_type": "code",
   "execution_count": 144,
   "metadata": {},
   "outputs": [],
   "source": [
    "post_texts = [get_post_text(post['media']['richtextContent']['document']) for post in data_science_posts['data']['posts']]\n"
   ]
  },
  {
   "cell_type": "code",
   "execution_count": 149,
   "metadata": {},
   "outputs": [
    {
     "data": {
      "text/plain": [
       "\"I see LLM's are all the rage these days. Learning and applying NLP projects seem redundant when you can fine tune a LLM model and get equally better results.I want to learn what domain of DS/AI would you recommend investing my time in and why from future job scope perspective: Classical ML NLP CV Other (please specify)Thank you! Happy holidays everyone🎅!\""
      ]
     },
     "execution_count": 149,
     "metadata": {},
     "output_type": "execute_result"
    }
   ],
   "source": [
    "post_texts[7]"
   ]
  },
  {
   "cell_type": "code",
   "execution_count": 150,
   "metadata": {},
   "outputs": [],
   "source": [
    "ds_posts_df['post_text'] =post_texts"
   ]
  },
  {
   "cell_type": "code",
   "execution_count": 152,
   "metadata": {},
   "outputs": [
    {
     "data": {
      "text/html": [
       "<div>\n",
       "<style scoped>\n",
       "    .dataframe tbody tr th:only-of-type {\n",
       "        vertical-align: middle;\n",
       "    }\n",
       "\n",
       "    .dataframe tbody tr th {\n",
       "        vertical-align: top;\n",
       "    }\n",
       "\n",
       "    .dataframe thead th {\n",
       "        text-align: right;\n",
       "    }\n",
       "</style>\n",
       "<table border=\"1\" class=\"dataframe\">\n",
       "  <thead>\n",
       "    <tr style=\"text-align: right;\">\n",
       "      <th></th>\n",
       "      <th>id</th>\n",
       "      <th>title</th>\n",
       "      <th>numComments</th>\n",
       "      <th>score</th>\n",
       "      <th>author</th>\n",
       "      <th>authorId</th>\n",
       "      <th>goldCount</th>\n",
       "      <th>domain</th>\n",
       "      <th>post_text</th>\n",
       "    </tr>\n",
       "  </thead>\n",
       "  <tbody>\n",
       "    <tr>\n",
       "      <th>0</th>\n",
       "      <td>t3_18qtaid</td>\n",
       "      <td>Probability reference book for data science pr...</td>\n",
       "      <td>19</td>\n",
       "      <td>50</td>\n",
       "      <td>HStuart18</td>\n",
       "      <td>t2_xfx8ms4</td>\n",
       "      <td>0</td>\n",
       "      <td>self.datascience</td>\n",
       "      <td>Hi all, I'd like to rehash my understanding of...</td>\n",
       "    </tr>\n",
       "    <tr>\n",
       "      <th>1</th>\n",
       "      <td>t3_18qrkqj</td>\n",
       "      <td>Have an upcoming interview for a data analyst ...</td>\n",
       "      <td>23</td>\n",
       "      <td>21</td>\n",
       "      <td>Impossible-Cry-495</td>\n",
       "      <td>t2_903k40ag</td>\n",
       "      <td>0</td>\n",
       "      <td>self.datascience</td>\n",
       "      <td>I have an interview at a company called Airbus...</td>\n",
       "    </tr>\n",
       "    <tr>\n",
       "      <th>2</th>\n",
       "      <td>t3_18qbsme</td>\n",
       "      <td>Weekly Entering &amp; Transitioning - Thread 25 De...</td>\n",
       "      <td>5</td>\n",
       "      <td>6</td>\n",
       "      <td>AutoModerator</td>\n",
       "      <td>t2_6l4z3</td>\n",
       "      <td>0</td>\n",
       "      <td>self.datascience</td>\n",
       "      <td>Welcome to this week's entering &amp; transitionin...</td>\n",
       "    </tr>\n",
       "    <tr>\n",
       "      <th>3</th>\n",
       "      <td>t3_18q5xz2</td>\n",
       "      <td>Should I work over Christmas to fix my code, o...</td>\n",
       "      <td>47</td>\n",
       "      <td>48</td>\n",
       "      <td>ManagementObvious631</td>\n",
       "      <td>t2_9rp766xc1</td>\n",
       "      <td>0</td>\n",
       "      <td>self.datascience</td>\n",
       "      <td>Edit: changed a date.It's a long story, but ba...</td>\n",
       "    </tr>\n",
       "    <tr>\n",
       "      <th>4</th>\n",
       "      <td>t3_18q5vq6</td>\n",
       "      <td>PyTorch LSTM for time series</td>\n",
       "      <td>29</td>\n",
       "      <td>15</td>\n",
       "      <td>medylan</td>\n",
       "      <td>t2_44oxrfns</td>\n",
       "      <td>0</td>\n",
       "      <td>self.datascience</td>\n",
       "      <td>Does anyone have a good resource or example pr...</td>\n",
       "    </tr>\n",
       "  </tbody>\n",
       "</table>\n",
       "</div>"
      ],
      "text/plain": [
       "           id                                              title  numComments  \\\n",
       "0  t3_18qtaid  Probability reference book for data science pr...           19   \n",
       "1  t3_18qrkqj  Have an upcoming interview for a data analyst ...           23   \n",
       "2  t3_18qbsme  Weekly Entering & Transitioning - Thread 25 De...            5   \n",
       "3  t3_18q5xz2  Should I work over Christmas to fix my code, o...           47   \n",
       "4  t3_18q5vq6                       PyTorch LSTM for time series           29   \n",
       "\n",
       "   score                author      authorId  goldCount            domain  \\\n",
       "0     50             HStuart18    t2_xfx8ms4          0  self.datascience   \n",
       "1     21    Impossible-Cry-495   t2_903k40ag          0  self.datascience   \n",
       "2      6         AutoModerator      t2_6l4z3          0  self.datascience   \n",
       "3     48  ManagementObvious631  t2_9rp766xc1          0  self.datascience   \n",
       "4     15               medylan   t2_44oxrfns          0  self.datascience   \n",
       "\n",
       "                                           post_text  \n",
       "0  Hi all, I'd like to rehash my understanding of...  \n",
       "1  I have an interview at a company called Airbus...  \n",
       "2  Welcome to this week's entering & transitionin...  \n",
       "3  Edit: changed a date.It's a long story, but ba...  \n",
       "4  Does anyone have a good resource or example pr...  "
      ]
     },
     "execution_count": 152,
     "metadata": {},
     "output_type": "execute_result"
    }
   ],
   "source": [
    "ds_posts_df.head()"
   ]
  },
  {
   "cell_type": "code",
   "execution_count": 154,
   "metadata": {},
   "outputs": [
    {
     "data": {
      "text/html": [
       "<div>\n",
       "<style scoped>\n",
       "    .dataframe tbody tr th:only-of-type {\n",
       "        vertical-align: middle;\n",
       "    }\n",
       "\n",
       "    .dataframe tbody tr th {\n",
       "        vertical-align: top;\n",
       "    }\n",
       "\n",
       "    .dataframe thead th {\n",
       "        text-align: right;\n",
       "    }\n",
       "</style>\n",
       "<table border=\"1\" class=\"dataframe\">\n",
       "  <thead>\n",
       "    <tr style=\"text-align: right;\">\n",
       "      <th></th>\n",
       "      <th>title</th>\n",
       "      <th>post_text</th>\n",
       "    </tr>\n",
       "  </thead>\n",
       "  <tbody>\n",
       "    <tr>\n",
       "      <th>0</th>\n",
       "      <td>Probability reference book for data science pr...</td>\n",
       "      <td>Hi all, I'd like to rehash my understanding of...</td>\n",
       "    </tr>\n",
       "    <tr>\n",
       "      <th>1</th>\n",
       "      <td>Have an upcoming interview for a data analyst ...</td>\n",
       "      <td>I have an interview at a company called Airbus...</td>\n",
       "    </tr>\n",
       "    <tr>\n",
       "      <th>2</th>\n",
       "      <td>Weekly Entering &amp; Transitioning - Thread 25 De...</td>\n",
       "      <td>Welcome to this week's entering &amp; transitionin...</td>\n",
       "    </tr>\n",
       "    <tr>\n",
       "      <th>3</th>\n",
       "      <td>Should I work over Christmas to fix my code, o...</td>\n",
       "      <td>Edit: changed a date.It's a long story, but ba...</td>\n",
       "    </tr>\n",
       "    <tr>\n",
       "      <th>4</th>\n",
       "      <td>PyTorch LSTM for time series</td>\n",
       "      <td>Does anyone have a good resource or example pr...</td>\n",
       "    </tr>\n",
       "    <tr>\n",
       "      <th>5</th>\n",
       "      <td>👋 We're ButcherBox and we believe humanely rai...</td>\n",
       "      <td>None</td>\n",
       "    </tr>\n",
       "    <tr>\n",
       "      <th>6</th>\n",
       "      <td>MS statisticians here, do you guys have good c...</td>\n",
       "      <td>Had a long chat with a relative who was trying...</td>\n",
       "    </tr>\n",
       "    <tr>\n",
       "      <th>7</th>\n",
       "      <td>What Domain of DS will have most jobs in the f...</td>\n",
       "      <td>I see LLM's are all the rage these days. Learn...</td>\n",
       "    </tr>\n",
       "    <tr>\n",
       "      <th>8</th>\n",
       "      <td>Walk forward validation</td>\n",
       "      <td>Hey folks, I am learning Time series Forecasti...</td>\n",
       "    </tr>\n",
       "    <tr>\n",
       "      <th>9</th>\n",
       "      <td>Job hunt status: feeling defeated</td>\n",
       "      <td>How do you land a data job when you’re a physi...</td>\n",
       "    </tr>\n",
       "    <tr>\n",
       "      <th>10</th>\n",
       "      <td>MBA with Data Analytics Concentration after MS...</td>\n",
       "      <td>I have an MS in data science, working as a dat...</td>\n",
       "    </tr>\n",
       "    <tr>\n",
       "      <th>11</th>\n",
       "      <td>Math major struggling to get an interview for ...</td>\n",
       "      <td>I've been trying very hard recently to learn s...</td>\n",
       "    </tr>\n",
       "    <tr>\n",
       "      <th>12</th>\n",
       "      <td>Has anyone interviewed with Figma?</td>\n",
       "      <td>Or Patreon, Snap, Dropbox or Notion.I am in th...</td>\n",
       "    </tr>\n",
       "    <tr>\n",
       "      <th>13</th>\n",
       "      <td>Why can't I transform a distribution by deduct...</td>\n",
       "      <td>Suppose I have records of the number of fishes...</td>\n",
       "    </tr>\n",
       "    <tr>\n",
       "      <th>14</th>\n",
       "      <td>Learn how A.I. can make a difference. Whether ...</td>\n",
       "      <td>None</td>\n",
       "    </tr>\n",
       "    <tr>\n",
       "      <th>15</th>\n",
       "      <td>In your opinion how important is dev skills in...</td>\n",
       "      <td>I had a PM of a project where i was a DS where...</td>\n",
       "    </tr>\n",
       "    <tr>\n",
       "      <th>16</th>\n",
       "      <td>Is Everyone in data science a mathematician</td>\n",
       "      <td>I come from a computer science background and ...</td>\n",
       "    </tr>\n",
       "    <tr>\n",
       "      <th>17</th>\n",
       "      <td>Have any of you ever paid for Streamlit/Dash (...</td>\n",
       "      <td>Just curious what people are doing on this fro...</td>\n",
       "    </tr>\n",
       "    <tr>\n",
       "      <th>18</th>\n",
       "      <td>What are some of the most “confidently incorre...</td>\n",
       "      <td>None</td>\n",
       "    </tr>\n",
       "    <tr>\n",
       "      <th>19</th>\n",
       "      <td>Should notebooks follow software engineering b...</td>\n",
       "      <td>I’m divided myself on this topic because I get...</td>\n",
       "    </tr>\n",
       "    <tr>\n",
       "      <th>20</th>\n",
       "      <td>Thank you for the advice on my manager! I’m fi...</td>\n",
       "      <td>I’ve written a couple of times about my manage...</td>\n",
       "    </tr>\n",
       "    <tr>\n",
       "      <th>21</th>\n",
       "      <td>How to correctly use sklearn Transformers in a...</td>\n",
       "      <td>This article will explain how to use Pipeline ...</td>\n",
       "    </tr>\n",
       "    <tr>\n",
       "      <th>22</th>\n",
       "      <td>Taking a Director of Data Science Position fro...</td>\n",
       "      <td>Hey data science people,I've been a data scien...</td>\n",
       "    </tr>\n",
       "    <tr>\n",
       "      <th>23</th>\n",
       "      <td>\"Airflow is not a data streaming solution.\" So...</td>\n",
       "      <td>None</td>\n",
       "    </tr>\n",
       "    <tr>\n",
       "      <th>24</th>\n",
       "      <td>Advice needed, (not a humble brag, I swear)</td>\n",
       "      <td>Hi. I have the opportunity to define my own da...</td>\n",
       "    </tr>\n",
       "    <tr>\n",
       "      <th>25</th>\n",
       "      <td>Just got laid off as I was heading the managem...</td>\n",
       "      <td>UPDATE TO TITLE: I meant, “heading down the ma...</td>\n",
       "    </tr>\n",
       "    <tr>\n",
       "      <th>26</th>\n",
       "      <td>Looking at sales</td>\n",
       "      <td>Hey all, looking at a career transition out of...</td>\n",
       "    </tr>\n",
       "    <tr>\n",
       "      <th>27</th>\n",
       "      <td>Coding Excercise question</td>\n",
       "      <td>I'm doing an excercise for an interview proces...</td>\n",
       "    </tr>\n",
       "  </tbody>\n",
       "</table>\n",
       "</div>"
      ],
      "text/plain": [
       "                                                title  \\\n",
       "0   Probability reference book for data science pr...   \n",
       "1   Have an upcoming interview for a data analyst ...   \n",
       "2   Weekly Entering & Transitioning - Thread 25 De...   \n",
       "3   Should I work over Christmas to fix my code, o...   \n",
       "4                        PyTorch LSTM for time series   \n",
       "5   👋 We're ButcherBox and we believe humanely rai...   \n",
       "6   MS statisticians here, do you guys have good c...   \n",
       "7   What Domain of DS will have most jobs in the f...   \n",
       "8                             Walk forward validation   \n",
       "9                   Job hunt status: feeling defeated   \n",
       "10  MBA with Data Analytics Concentration after MS...   \n",
       "11  Math major struggling to get an interview for ...   \n",
       "12                 Has anyone interviewed with Figma?   \n",
       "13  Why can't I transform a distribution by deduct...   \n",
       "14  Learn how A.I. can make a difference. Whether ...   \n",
       "15  In your opinion how important is dev skills in...   \n",
       "16        Is Everyone in data science a mathematician   \n",
       "17  Have any of you ever paid for Streamlit/Dash (...   \n",
       "18  What are some of the most “confidently incorre...   \n",
       "19  Should notebooks follow software engineering b...   \n",
       "20  Thank you for the advice on my manager! I’m fi...   \n",
       "21  How to correctly use sklearn Transformers in a...   \n",
       "22  Taking a Director of Data Science Position fro...   \n",
       "23  \"Airflow is not a data streaming solution.\" So...   \n",
       "24        Advice needed, (not a humble brag, I swear)   \n",
       "25  Just got laid off as I was heading the managem...   \n",
       "26                                   Looking at sales   \n",
       "27                          Coding Excercise question   \n",
       "\n",
       "                                            post_text  \n",
       "0   Hi all, I'd like to rehash my understanding of...  \n",
       "1   I have an interview at a company called Airbus...  \n",
       "2   Welcome to this week's entering & transitionin...  \n",
       "3   Edit: changed a date.It's a long story, but ba...  \n",
       "4   Does anyone have a good resource or example pr...  \n",
       "5                                                None  \n",
       "6   Had a long chat with a relative who was trying...  \n",
       "7   I see LLM's are all the rage these days. Learn...  \n",
       "8   Hey folks, I am learning Time series Forecasti...  \n",
       "9   How do you land a data job when you’re a physi...  \n",
       "10  I have an MS in data science, working as a dat...  \n",
       "11  I've been trying very hard recently to learn s...  \n",
       "12  Or Patreon, Snap, Dropbox or Notion.I am in th...  \n",
       "13  Suppose I have records of the number of fishes...  \n",
       "14                                               None  \n",
       "15  I had a PM of a project where i was a DS where...  \n",
       "16  I come from a computer science background and ...  \n",
       "17  Just curious what people are doing on this fro...  \n",
       "18                                               None  \n",
       "19  I’m divided myself on this topic because I get...  \n",
       "20  I’ve written a couple of times about my manage...  \n",
       "21  This article will explain how to use Pipeline ...  \n",
       "22  Hey data science people,I've been a data scien...  \n",
       "23                                               None  \n",
       "24  Hi. I have the opportunity to define my own da...  \n",
       "25  UPDATE TO TITLE: I meant, “heading down the ma...  \n",
       "26  Hey all, looking at a career transition out of...  \n",
       "27  I'm doing an excercise for an interview proces...  "
      ]
     },
     "execution_count": 154,
     "metadata": {},
     "output_type": "execute_result"
    }
   ],
   "source": [
    "ds_posts_df[['title','post_text']]"
   ]
  },
  {
   "cell_type": "code",
   "execution_count": 155,
   "metadata": {},
   "outputs": [],
   "source": [
    "# Saving again with post texts\n",
    "ds_posts_df.to_csv(\"data_science_posts.csv\", index=False)"
   ]
  },
  {
   "cell_type": "markdown",
   "metadata": {},
   "source": [
    "## Data Analyze and Viz"
   ]
  },
  {
   "cell_type": "code",
   "execution_count": 2,
   "metadata": {},
   "outputs": [],
   "source": [
    "import matplotlib.pyplot as plt\n",
    "import seaborn as sns"
   ]
  },
  {
   "cell_type": "code",
   "execution_count": 3,
   "metadata": {},
   "outputs": [],
   "source": [
    "popular_posts_df = pd.read_csv(\"popular_posts.csv\")\n",
    "ds_posts_df = pd.read_csv(\"data_science_posts.csv\")"
   ]
  },
  {
   "cell_type": "code",
   "execution_count": 4,
   "metadata": {},
   "outputs": [
    {
     "data": {
      "text/html": [
       "<div>\n",
       "<style scoped>\n",
       "    .dataframe tbody tr th:only-of-type {\n",
       "        vertical-align: middle;\n",
       "    }\n",
       "\n",
       "    .dataframe tbody tr th {\n",
       "        vertical-align: top;\n",
       "    }\n",
       "\n",
       "    .dataframe thead th {\n",
       "        text-align: right;\n",
       "    }\n",
       "</style>\n",
       "<table border=\"1\" class=\"dataframe\">\n",
       "  <thead>\n",
       "    <tr style=\"text-align: right;\">\n",
       "      <th></th>\n",
       "      <th>id</th>\n",
       "      <th>title</th>\n",
       "      <th>numComments</th>\n",
       "      <th>score</th>\n",
       "      <th>author</th>\n",
       "      <th>authorId</th>\n",
       "      <th>goldCount</th>\n",
       "      <th>domain</th>\n",
       "    </tr>\n",
       "  </thead>\n",
       "  <tbody>\n",
       "    <tr>\n",
       "      <th>9</th>\n",
       "      <td>t3_11czhbt</td>\n",
       "      <td>Guy makes insane house for a frog</td>\n",
       "      <td>2260</td>\n",
       "      <td>196221</td>\n",
       "      <td>Faithyxox</td>\n",
       "      <td>t2_m7uat</td>\n",
       "      <td>5</td>\n",
       "      <td>v.redd.it</td>\n",
       "    </tr>\n",
       "    <tr>\n",
       "      <th>10</th>\n",
       "      <td>t3_159lksc</td>\n",
       "      <td>Claim your I was here ticket 🎫</td>\n",
       "      <td>21342</td>\n",
       "      <td>194314</td>\n",
       "      <td>Barnard-Sanders</td>\n",
       "      <td>t2_4ghkg54u</td>\n",
       "      <td>56</td>\n",
       "      <td>i.redd.it</td>\n",
       "    </tr>\n",
       "    <tr>\n",
       "      <th>20</th>\n",
       "      <td>t3_1037wz4</td>\n",
       "      <td>I hate it when job interviewers ask \"what is y...</td>\n",
       "      <td>3496</td>\n",
       "      <td>172670</td>\n",
       "      <td>jDubbaYo</td>\n",
       "      <td>t2_54aqx</td>\n",
       "      <td>6</td>\n",
       "      <td>i.redd.it</td>\n",
       "    </tr>\n",
       "    <tr>\n",
       "      <th>3</th>\n",
       "      <td>t3_17xjfyu</td>\n",
       "      <td>Left the office &amp; found the neighbors cat in m...</td>\n",
       "      <td>3475</td>\n",
       "      <td>218627</td>\n",
       "      <td>go_fight_kickass</td>\n",
       "      <td>t2_12g6zr</td>\n",
       "      <td>0</td>\n",
       "      <td>i.redd.it</td>\n",
       "    </tr>\n",
       "    <tr>\n",
       "      <th>25</th>\n",
       "      <td>t3_1143y3k</td>\n",
       "      <td>duolingo can be good sometimes</td>\n",
       "      <td>1991</td>\n",
       "      <td>168995</td>\n",
       "      <td>dowhatuwantiq</td>\n",
       "      <td>t2_2uwjzgcv</td>\n",
       "      <td>1</td>\n",
       "      <td>i.redd.it</td>\n",
       "    </tr>\n",
       "  </tbody>\n",
       "</table>\n",
       "</div>"
      ],
      "text/plain": [
       "            id                                              title  \\\n",
       "9   t3_11czhbt                  Guy makes insane house for a frog   \n",
       "10  t3_159lksc                     Claim your I was here ticket 🎫   \n",
       "20  t3_1037wz4  I hate it when job interviewers ask \"what is y...   \n",
       "3   t3_17xjfyu  Left the office & found the neighbors cat in m...   \n",
       "25  t3_1143y3k                     duolingo can be good sometimes   \n",
       "\n",
       "    numComments   score            author     authorId  goldCount     domain  \n",
       "9          2260  196221         Faithyxox     t2_m7uat          5  v.redd.it  \n",
       "10        21342  194314   Barnard-Sanders  t2_4ghkg54u         56  i.redd.it  \n",
       "20         3496  172670          jDubbaYo     t2_54aqx          6  i.redd.it  \n",
       "3          3475  218627  go_fight_kickass    t2_12g6zr          0  i.redd.it  \n",
       "25         1991  168995     dowhatuwantiq  t2_2uwjzgcv          1  i.redd.it  "
      ]
     },
     "execution_count": 4,
     "metadata": {},
     "output_type": "execute_result"
    }
   ],
   "source": [
    "popular_posts_df.sample(5)"
   ]
  },
  {
   "cell_type": "code",
   "execution_count": 5,
   "metadata": {},
   "outputs": [
    {
     "data": {
      "text/html": [
       "<div>\n",
       "<style scoped>\n",
       "    .dataframe tbody tr th:only-of-type {\n",
       "        vertical-align: middle;\n",
       "    }\n",
       "\n",
       "    .dataframe tbody tr th {\n",
       "        vertical-align: top;\n",
       "    }\n",
       "\n",
       "    .dataframe thead th {\n",
       "        text-align: right;\n",
       "    }\n",
       "</style>\n",
       "<table border=\"1\" class=\"dataframe\">\n",
       "  <thead>\n",
       "    <tr style=\"text-align: right;\">\n",
       "      <th></th>\n",
       "      <th>id</th>\n",
       "      <th>title</th>\n",
       "      <th>numComments</th>\n",
       "      <th>score</th>\n",
       "      <th>author</th>\n",
       "      <th>authorId</th>\n",
       "      <th>goldCount</th>\n",
       "      <th>domain</th>\n",
       "      <th>post_text</th>\n",
       "    </tr>\n",
       "  </thead>\n",
       "  <tbody>\n",
       "    <tr>\n",
       "      <th>13</th>\n",
       "      <td>t3_18p8uz5</td>\n",
       "      <td>Why can't I transform a distribution by deduct...</td>\n",
       "      <td>23</td>\n",
       "      <td>49</td>\n",
       "      <td>wanderingcatto</td>\n",
       "      <td>t2_amc46yj2</td>\n",
       "      <td>0</td>\n",
       "      <td>self.datascience</td>\n",
       "      <td>Suppose I have records of the number of fishes...</td>\n",
       "    </tr>\n",
       "    <tr>\n",
       "      <th>24</th>\n",
       "      <td>t3_18nccs1</td>\n",
       "      <td>Advice needed, (not a humble brag, I swear)</td>\n",
       "      <td>22</td>\n",
       "      <td>0</td>\n",
       "      <td>tmotytmoty</td>\n",
       "      <td>t2_4ciy3</td>\n",
       "      <td>0</td>\n",
       "      <td>self.datascience</td>\n",
       "      <td>Hi. I have the opportunity to define my own da...</td>\n",
       "    </tr>\n",
       "    <tr>\n",
       "      <th>17</th>\n",
       "      <td>t3_18o42gh</td>\n",
       "      <td>Have any of you ever paid for Streamlit/Dash (...</td>\n",
       "      <td>14</td>\n",
       "      <td>15</td>\n",
       "      <td>zero-true</td>\n",
       "      <td>t2_anwr3x7ou</td>\n",
       "      <td>0</td>\n",
       "      <td>self.datascience</td>\n",
       "      <td>Just curious what people are doing on this fro...</td>\n",
       "    </tr>\n",
       "    <tr>\n",
       "      <th>15</th>\n",
       "      <td>t3_18ow108</td>\n",
       "      <td>In your opinion how important is dev skills in...</td>\n",
       "      <td>60</td>\n",
       "      <td>96</td>\n",
       "      <td>ds_account_</td>\n",
       "      <td>t2_5shgp83w</td>\n",
       "      <td>0</td>\n",
       "      <td>self.datascience</td>\n",
       "      <td>I had a PM of a project where i was a DS where...</td>\n",
       "    </tr>\n",
       "    <tr>\n",
       "      <th>26</th>\n",
       "      <td>t3_18n9g8m</td>\n",
       "      <td>Looking at sales</td>\n",
       "      <td>2</td>\n",
       "      <td>1</td>\n",
       "      <td>quantpsychguy</td>\n",
       "      <td>t2_7jjayp3</td>\n",
       "      <td>0</td>\n",
       "      <td>self.datascience</td>\n",
       "      <td>Hey all, looking at a career transition out of...</td>\n",
       "    </tr>\n",
       "  </tbody>\n",
       "</table>\n",
       "</div>"
      ],
      "text/plain": [
       "            id                                              title  \\\n",
       "13  t3_18p8uz5  Why can't I transform a distribution by deduct...   \n",
       "24  t3_18nccs1        Advice needed, (not a humble brag, I swear)   \n",
       "17  t3_18o42gh  Have any of you ever paid for Streamlit/Dash (...   \n",
       "15  t3_18ow108  In your opinion how important is dev skills in...   \n",
       "26  t3_18n9g8m                                   Looking at sales   \n",
       "\n",
       "    numComments  score          author      authorId  goldCount  \\\n",
       "13           23     49  wanderingcatto   t2_amc46yj2          0   \n",
       "24           22      0      tmotytmoty      t2_4ciy3          0   \n",
       "17           14     15       zero-true  t2_anwr3x7ou          0   \n",
       "15           60     96     ds_account_   t2_5shgp83w          0   \n",
       "26            2      1   quantpsychguy    t2_7jjayp3          0   \n",
       "\n",
       "              domain                                          post_text  \n",
       "13  self.datascience  Suppose I have records of the number of fishes...  \n",
       "24  self.datascience  Hi. I have the opportunity to define my own da...  \n",
       "17  self.datascience  Just curious what people are doing on this fro...  \n",
       "15  self.datascience  I had a PM of a project where i was a DS where...  \n",
       "26  self.datascience  Hey all, looking at a career transition out of...  "
      ]
     },
     "execution_count": 5,
     "metadata": {},
     "output_type": "execute_result"
    }
   ],
   "source": [
    "ds_posts_df.sample(5)"
   ]
  },
  {
   "cell_type": "code",
   "execution_count": 6,
   "metadata": {},
   "outputs": [
    {
     "name": "stdout",
     "output_type": "stream",
     "text": [
      "<class 'pandas.core.frame.DataFrame'>\n",
      "RangeIndex: 29 entries, 0 to 28\n",
      "Data columns (total 8 columns):\n",
      " #   Column       Non-Null Count  Dtype \n",
      "---  ------       --------------  ----- \n",
      " 0   id           29 non-null     object\n",
      " 1   title        29 non-null     object\n",
      " 2   numComments  29 non-null     int64 \n",
      " 3   score        29 non-null     int64 \n",
      " 4   author       29 non-null     object\n",
      " 5   authorId     28 non-null     object\n",
      " 6   goldCount    29 non-null     int64 \n",
      " 7   domain       29 non-null     object\n",
      "dtypes: int64(3), object(5)\n",
      "memory usage: 1.9+ KB\n"
     ]
    }
   ],
   "source": [
    "popular_posts_df.info()"
   ]
  },
  {
   "cell_type": "code",
   "execution_count": 7,
   "metadata": {},
   "outputs": [
    {
     "data": {
      "text/html": [
       "<div>\n",
       "<style scoped>\n",
       "    .dataframe tbody tr th:only-of-type {\n",
       "        vertical-align: middle;\n",
       "    }\n",
       "\n",
       "    .dataframe tbody tr th {\n",
       "        vertical-align: top;\n",
       "    }\n",
       "\n",
       "    .dataframe thead th {\n",
       "        text-align: right;\n",
       "    }\n",
       "</style>\n",
       "<table border=\"1\" class=\"dataframe\">\n",
       "  <thead>\n",
       "    <tr style=\"text-align: right;\">\n",
       "      <th></th>\n",
       "      <th>numComments</th>\n",
       "      <th>score</th>\n",
       "      <th>goldCount</th>\n",
       "    </tr>\n",
       "  </thead>\n",
       "  <tbody>\n",
       "    <tr>\n",
       "      <th>count</th>\n",
       "      <td>29.000000</td>\n",
       "      <td>29.000000</td>\n",
       "      <td>29.000000</td>\n",
       "    </tr>\n",
       "    <tr>\n",
       "      <th>mean</th>\n",
       "      <td>5709.206897</td>\n",
       "      <td>164004.551724</td>\n",
       "      <td>17.586207</td>\n",
       "    </tr>\n",
       "    <tr>\n",
       "      <th>std</th>\n",
       "      <td>7203.136709</td>\n",
       "      <td>71089.642507</td>\n",
       "      <td>65.600260</td>\n",
       "    </tr>\n",
       "    <tr>\n",
       "      <th>min</th>\n",
       "      <td>0.000000</td>\n",
       "      <td>0.000000</td>\n",
       "      <td>0.000000</td>\n",
       "    </tr>\n",
       "    <tr>\n",
       "      <th>25%</th>\n",
       "      <td>1704.000000</td>\n",
       "      <td>169162.000000</td>\n",
       "      <td>0.000000</td>\n",
       "    </tr>\n",
       "    <tr>\n",
       "      <th>50%</th>\n",
       "      <td>3475.000000</td>\n",
       "      <td>176413.000000</td>\n",
       "      <td>1.000000</td>\n",
       "    </tr>\n",
       "    <tr>\n",
       "      <th>75%</th>\n",
       "      <td>5921.000000</td>\n",
       "      <td>196221.000000</td>\n",
       "      <td>7.000000</td>\n",
       "    </tr>\n",
       "    <tr>\n",
       "      <th>max</th>\n",
       "      <td>32997.000000</td>\n",
       "      <td>290221.000000</td>\n",
       "      <td>354.000000</td>\n",
       "    </tr>\n",
       "  </tbody>\n",
       "</table>\n",
       "</div>"
      ],
      "text/plain": [
       "        numComments          score   goldCount\n",
       "count     29.000000      29.000000   29.000000\n",
       "mean    5709.206897  164004.551724   17.586207\n",
       "std     7203.136709   71089.642507   65.600260\n",
       "min        0.000000       0.000000    0.000000\n",
       "25%     1704.000000  169162.000000    0.000000\n",
       "50%     3475.000000  176413.000000    1.000000\n",
       "75%     5921.000000  196221.000000    7.000000\n",
       "max    32997.000000  290221.000000  354.000000"
      ]
     },
     "execution_count": 7,
     "metadata": {},
     "output_type": "execute_result"
    }
   ],
   "source": [
    "popular_posts_df.describe()"
   ]
  },
  {
   "cell_type": "code",
   "execution_count": 8,
   "metadata": {},
   "outputs": [
    {
     "data": {
      "image/png": "[encoded data removed]",
      "text/plain": [
       "<Figure size 640x480 with 1 Axes>"
      ]
     },
     "metadata": {},
     "output_type": "display_data"
    }
   ],
   "source": [
    "plt.title('Popular Posts Scores')\n",
    "plt.ylabel('Score')\n",
    "plt.xlabel('Posts')\n",
    "plt.tick_params(axis='both', which='both', labelbottom=False, bottom=False)\n",
    "\n",
    "x = popular_posts_df['id']\n",
    "y = popular_posts_df['score']\n",
    "plt.plot(x, y, \"o\", color=\"teal\")\n",
    "      \n",
    "plt.show()"
   ]
  },
  {
   "cell_type": "code",
   "execution_count": 9,
   "metadata": {},
   "outputs": [
    {
     "data": {
      "text/html": [
       "<div>\n",
       "<style scoped>\n",
       "    .dataframe tbody tr th:only-of-type {\n",
       "        vertical-align: middle;\n",
       "    }\n",
       "\n",
       "    .dataframe tbody tr th {\n",
       "        vertical-align: top;\n",
       "    }\n",
       "\n",
       "    .dataframe thead th {\n",
       "        text-align: right;\n",
       "    }\n",
       "</style>\n",
       "<table border=\"1\" class=\"dataframe\">\n",
       "  <thead>\n",
       "    <tr style=\"text-align: right;\">\n",
       "      <th></th>\n",
       "      <th>id</th>\n",
       "      <th>title</th>\n",
       "      <th>numComments</th>\n",
       "      <th>score</th>\n",
       "      <th>author</th>\n",
       "      <th>authorId</th>\n",
       "      <th>goldCount</th>\n",
       "      <th>domain</th>\n",
       "    </tr>\n",
       "  </thead>\n",
       "  <tbody>\n",
       "    <tr>\n",
       "      <th>1</th>\n",
       "      <td>t3_187p59c</td>\n",
       "      <td>YSK MTN DEW GAME FUEL is back! Partnering with...</td>\n",
       "      <td>0</td>\n",
       "      <td>0</td>\n",
       "      <td>MTNDEWGaming</td>\n",
       "      <td>t2_t4otn2sq</td>\n",
       "      <td>0</td>\n",
       "      <td>mountaindew.com</td>\n",
       "    </tr>\n",
       "    <tr>\n",
       "      <th>8</th>\n",
       "      <td>t3_17g82xx</td>\n",
       "      <td>r/gaming, what Mtn Dew flavor pairs best with ...</td>\n",
       "      <td>452</td>\n",
       "      <td>0</td>\n",
       "      <td>MtnDewOfficial</td>\n",
       "      <td>t2_ao7d8uab</td>\n",
       "      <td>0</td>\n",
       "      <td>mountaindew.com</td>\n",
       "    </tr>\n",
       "    <tr>\n",
       "      <th>18</th>\n",
       "      <td>t3_16uc8la</td>\n",
       "      <td>What would the world look like without US mili...</td>\n",
       "      <td>1263</td>\n",
       "      <td>1332</td>\n",
       "      <td>call_of_war_player</td>\n",
       "      <td>t2_vj2jjxzt</td>\n",
       "      <td>0</td>\n",
       "      <td>callofwar.com</td>\n",
       "    </tr>\n",
       "    <tr>\n",
       "      <th>26</th>\n",
       "      <td>t3_17wva9w</td>\n",
       "      <td>Your favorite game is iconic. Make it official...</td>\n",
       "      <td>0</td>\n",
       "      <td>18</td>\n",
       "      <td>PringlesUS</td>\n",
       "      <td>t2_apioax4u</td>\n",
       "      <td>0</td>\n",
       "      <td>ign.com</td>\n",
       "    </tr>\n",
       "  </tbody>\n",
       "</table>\n",
       "</div>"
      ],
      "text/plain": [
       "            id                                              title  \\\n",
       "1   t3_187p59c  YSK MTN DEW GAME FUEL is back! Partnering with...   \n",
       "8   t3_17g82xx  r/gaming, what Mtn Dew flavor pairs best with ...   \n",
       "18  t3_16uc8la  What would the world look like without US mili...   \n",
       "26  t3_17wva9w  Your favorite game is iconic. Make it official...   \n",
       "\n",
       "    numComments  score              author     authorId  goldCount  \\\n",
       "1             0      0        MTNDEWGaming  t2_t4otn2sq          0   \n",
       "8           452      0      MtnDewOfficial  t2_ao7d8uab          0   \n",
       "18         1263   1332  call_of_war_player  t2_vj2jjxzt          0   \n",
       "26            0     18          PringlesUS  t2_apioax4u          0   \n",
       "\n",
       "             domain  \n",
       "1   mountaindew.com  \n",
       "8   mountaindew.com  \n",
       "18    callofwar.com  \n",
       "26          ign.com  "
      ]
     },
     "execution_count": 9,
     "metadata": {},
     "output_type": "execute_result"
    }
   ],
   "source": [
    "popular_posts_df.query('score < 50000')"
   ]
  },
  {
   "cell_type": "code",
   "execution_count": 10,
   "metadata": {},
   "outputs": [
    {
     "data": {
      "text/html": [
       "<div>\n",
       "<style scoped>\n",
       "    .dataframe tbody tr th:only-of-type {\n",
       "        vertical-align: middle;\n",
       "    }\n",
       "\n",
       "    .dataframe tbody tr th {\n",
       "        vertical-align: top;\n",
       "    }\n",
       "\n",
       "    .dataframe thead th {\n",
       "        text-align: right;\n",
       "    }\n",
       "</style>\n",
       "<table border=\"1\" class=\"dataframe\">\n",
       "  <thead>\n",
       "    <tr style=\"text-align: right;\">\n",
       "      <th></th>\n",
       "      <th>id</th>\n",
       "      <th>title</th>\n",
       "      <th>numComments</th>\n",
       "      <th>score</th>\n",
       "      <th>author</th>\n",
       "      <th>authorId</th>\n",
       "      <th>goldCount</th>\n",
       "      <th>domain</th>\n",
       "    </tr>\n",
       "  </thead>\n",
       "  <tbody>\n",
       "    <tr>\n",
       "      <th>0</th>\n",
       "      <td>t3_11ia0od</td>\n",
       "      <td>Hi, I’m Keanu Reeves, AMA</td>\n",
       "      <td>32997</td>\n",
       "      <td>290221</td>\n",
       "      <td>lionsgate</td>\n",
       "      <td>t2_2yjg9dt0</td>\n",
       "      <td>21</td>\n",
       "      <td>i.redd.it</td>\n",
       "    </tr>\n",
       "  </tbody>\n",
       "</table>\n",
       "</div>"
      ],
      "text/plain": [
       "           id                      title  numComments   score     author  \\\n",
       "0  t3_11ia0od  Hi, I’m Keanu Reeves, AMA        32997  290221  lionsgate   \n",
       "\n",
       "      authorId  goldCount     domain  \n",
       "0  t2_2yjg9dt0         21  i.redd.it  "
      ]
     },
     "execution_count": 10,
     "metadata": {},
     "output_type": "execute_result"
    }
   ],
   "source": [
    "popular_posts_df.query('score > 250000')"
   ]
  },
  {
   "cell_type": "code",
   "execution_count": 11,
   "metadata": {},
   "outputs": [
    {
     "data": {
      "text/plain": [
       "<Axes: title={'center': 'Popular Posts Number of Comments'}, xlabel='Number of Comments', ylabel='Count'>"
      ]
     },
     "execution_count": 11,
     "metadata": {},
     "output_type": "execute_result"
    },
    {
     "data": {
      "image/png": "[encoded data removed]",
      "text/plain": [
       "<Figure size 640x480 with 1 Axes>"
      ]
     },
     "metadata": {},
     "output_type": "display_data"
    }
   ],
   "source": [
    "plt.title('Popular Posts Number of Comments')\n",
    "plt.ylabel('Count')\n",
    "plt.xlabel('Number of Comments')\n",
    "sns.histplot(data=popular_posts_df, x='numComments', bins=5,  kde=True, color='maroon' )"
   ]
  },
  {
   "cell_type": "code",
   "execution_count": 12,
   "metadata": {},
   "outputs": [
    {
     "data": {
      "image/png": "[encoded data removed]",
      "text/plain": [
       "<Figure size 640x480 with 1 Axes>"
      ]
     },
     "metadata": {},
     "output_type": "display_data"
    }
   ],
   "source": [
    "plt.title('Popular Posts Gold Count')\n",
    "plt.ylabel('Gold Count')\n",
    "plt.xlabel('Posts')\n",
    "plt.tick_params(axis='both', which='both', labelbottom=False, bottom=False)\n",
    "\n",
    "x = popular_posts_df['id']\n",
    "y = popular_posts_df['goldCount']\n",
    "plt.plot(x, y, \"o\", color=\"indigo\")\n",
    "      \n",
    "plt.show()"
   ]
  },
  {
   "cell_type": "code",
   "execution_count": 13,
   "metadata": {},
   "outputs": [
    {
     "data": {
      "text/html": [
       "<div>\n",
       "<style scoped>\n",
       "    .dataframe tbody tr th:only-of-type {\n",
       "        vertical-align: middle;\n",
       "    }\n",
       "\n",
       "    .dataframe tbody tr th {\n",
       "        vertical-align: top;\n",
       "    }\n",
       "\n",
       "    .dataframe thead th {\n",
       "        text-align: right;\n",
       "    }\n",
       "</style>\n",
       "<table border=\"1\" class=\"dataframe\">\n",
       "  <thead>\n",
       "    <tr style=\"text-align: right;\">\n",
       "      <th></th>\n",
       "      <th>id</th>\n",
       "      <th>title</th>\n",
       "      <th>numComments</th>\n",
       "      <th>score</th>\n",
       "      <th>author</th>\n",
       "      <th>authorId</th>\n",
       "      <th>goldCount</th>\n",
       "      <th>domain</th>\n",
       "    </tr>\n",
       "  </thead>\n",
       "  <tbody>\n",
       "    <tr>\n",
       "      <th>2</th>\n",
       "      <td>t3_144f6xm</td>\n",
       "      <td>📣 Apollo will close down on June 30th. Reddit’...</td>\n",
       "      <td>15438</td>\n",
       "      <td>220416</td>\n",
       "      <td>iamthatis</td>\n",
       "      <td>t2_4mwol</td>\n",
       "      <td>354</td>\n",
       "      <td>self.apolloapp</td>\n",
       "    </tr>\n",
       "  </tbody>\n",
       "</table>\n",
       "</div>"
      ],
      "text/plain": [
       "           id                                              title  numComments  \\\n",
       "2  t3_144f6xm  📣 Apollo will close down on June 30th. Reddit’...        15438   \n",
       "\n",
       "    score     author  authorId  goldCount          domain  \n",
       "2  220416  iamthatis  t2_4mwol        354  self.apolloapp  "
      ]
     },
     "execution_count": 13,
     "metadata": {},
     "output_type": "execute_result"
    }
   ],
   "source": [
    "popular_posts_df.query('goldCount > 300')"
   ]
  },
  {
   "cell_type": "code",
   "execution_count": 18,
   "metadata": {},
   "outputs": [
    {
     "data": {
      "text/plain": [
       "<Axes: title={'center': 'Popular Posts Number of Comments and Score'}, xlabel='numComments', ylabel='Score'>"
      ]
     },
     "execution_count": 18,
     "metadata": {},
     "output_type": "execute_result"
    },
    {
     "data": {
      "image/png": "[encoded data removed]",
      "text/plain": [
       "<Figure size 640x480 with 1 Axes>"
      ]
     },
     "metadata": {},
     "output_type": "display_data"
    }
   ],
   "source": [
    "plt.title('Popular Posts Number of Comments and Score')\n",
    "plt.ylabel('Score')\n",
    "plt.xlabel('numComments')\n",
    "sns.scatterplot(data=popular_posts_df,\n",
    "                x=\"numComments\",\n",
    "                y=\"score\",\n",
    "                )\n"
   ]
  },
  {
   "cell_type": "code",
   "execution_count": 35,
   "metadata": {},
   "outputs": [],
   "source": [
    "matrix = popular_posts_df[['numComments', 'score', 'goldCount']].corr()"
   ]
  },
  {
   "cell_type": "code",
   "execution_count": 36,
   "metadata": {},
   "outputs": [
    {
     "data": {
      "text/html": [
       "<div>\n",
       "<style scoped>\n",
       "    .dataframe tbody tr th:only-of-type {\n",
       "        vertical-align: middle;\n",
       "    }\n",
       "\n",
       "    .dataframe tbody tr th {\n",
       "        vertical-align: top;\n",
       "    }\n",
       "\n",
       "    .dataframe thead th {\n",
       "        text-align: right;\n",
       "    }\n",
       "</style>\n",
       "<table border=\"1\" class=\"dataframe\">\n",
       "  <thead>\n",
       "    <tr style=\"text-align: right;\">\n",
       "      <th></th>\n",
       "      <th>numComments</th>\n",
       "      <th>score</th>\n",
       "      <th>goldCount</th>\n",
       "    </tr>\n",
       "  </thead>\n",
       "  <tbody>\n",
       "    <tr>\n",
       "      <th>numComments</th>\n",
       "      <td>1.000000</td>\n",
       "      <td>0.516468</td>\n",
       "      <td>0.367240</td>\n",
       "    </tr>\n",
       "    <tr>\n",
       "      <th>score</th>\n",
       "      <td>0.516468</td>\n",
       "      <td>1.000000</td>\n",
       "      <td>0.197994</td>\n",
       "    </tr>\n",
       "    <tr>\n",
       "      <th>goldCount</th>\n",
       "      <td>0.367240</td>\n",
       "      <td>0.197994</td>\n",
       "      <td>1.000000</td>\n",
       "    </tr>\n",
       "  </tbody>\n",
       "</table>\n",
       "</div>"
      ],
      "text/plain": [
       "             numComments     score  goldCount\n",
       "numComments     1.000000  0.516468   0.367240\n",
       "score           0.516468  1.000000   0.197994\n",
       "goldCount       0.367240  0.197994   1.000000"
      ]
     },
     "execution_count": 36,
     "metadata": {},
     "output_type": "execute_result"
    }
   ],
   "source": [
    "matrix"
   ]
  },
  {
   "cell_type": "code",
   "execution_count": 37,
   "metadata": {},
   "outputs": [
    {
     "data": {
      "text/plain": [
       "<Axes: >"
      ]
     },
     "execution_count": 37,
     "metadata": {},
     "output_type": "execute_result"
    },
    {
     "data": {
      "image/png": "[encoded data removed]",
      "text/plain": [
       "<Figure size 640x480 with 2 Axes>"
      ]
     },
     "metadata": {},
     "output_type": "display_data"
    }
   ],
   "source": [
    "# There is no corelationn\n",
    "sns.heatmap(matrix, \n",
    "            xticklabels=matrix.columns.values,\n",
    "            yticklabels=matrix.columns.values)"
   ]
  },
  {
   "cell_type": "code",
   "execution_count": 20,
   "metadata": {},
   "outputs": [
    {
     "name": "stdout",
     "output_type": "stream",
     "text": [
      "<class 'pandas.core.frame.DataFrame'>\n",
      "RangeIndex: 28 entries, 0 to 27\n",
      "Data columns (total 9 columns):\n",
      " #   Column       Non-Null Count  Dtype \n",
      "---  ------       --------------  ----- \n",
      " 0   id           28 non-null     object\n",
      " 1   title        28 non-null     object\n",
      " 2   numComments  28 non-null     int64 \n",
      " 3   score        28 non-null     int64 \n",
      " 4   author       28 non-null     object\n",
      " 5   authorId     28 non-null     object\n",
      " 6   goldCount    28 non-null     int64 \n",
      " 7   domain       28 non-null     object\n",
      " 8   post_text    24 non-null     object\n",
      "dtypes: int64(3), object(6)\n",
      "memory usage: 2.1+ KB\n"
     ]
    }
   ],
   "source": [
    "ds_posts_df.info()"
   ]
  },
  {
   "cell_type": "code",
   "execution_count": 21,
   "metadata": {},
   "outputs": [
    {
     "data": {
      "text/html": [
       "<div>\n",
       "<style scoped>\n",
       "    .dataframe tbody tr th:only-of-type {\n",
       "        vertical-align: middle;\n",
       "    }\n",
       "\n",
       "    .dataframe tbody tr th {\n",
       "        vertical-align: top;\n",
       "    }\n",
       "\n",
       "    .dataframe thead th {\n",
       "        text-align: right;\n",
       "    }\n",
       "</style>\n",
       "<table border=\"1\" class=\"dataframe\">\n",
       "  <thead>\n",
       "    <tr style=\"text-align: right;\">\n",
       "      <th></th>\n",
       "      <th>numComments</th>\n",
       "      <th>score</th>\n",
       "      <th>goldCount</th>\n",
       "    </tr>\n",
       "  </thead>\n",
       "  <tbody>\n",
       "    <tr>\n",
       "      <th>count</th>\n",
       "      <td>28.000000</td>\n",
       "      <td>28.000000</td>\n",
       "      <td>28.0</td>\n",
       "    </tr>\n",
       "    <tr>\n",
       "      <th>mean</th>\n",
       "      <td>42.107143</td>\n",
       "      <td>51.892857</td>\n",
       "      <td>0.0</td>\n",
       "    </tr>\n",
       "    <tr>\n",
       "      <th>std</th>\n",
       "      <td>52.607097</td>\n",
       "      <td>75.182415</td>\n",
       "      <td>0.0</td>\n",
       "    </tr>\n",
       "    <tr>\n",
       "      <th>min</th>\n",
       "      <td>0.000000</td>\n",
       "      <td>0.000000</td>\n",
       "      <td>0.0</td>\n",
       "    </tr>\n",
       "    <tr>\n",
       "      <th>25%</th>\n",
       "      <td>7.250000</td>\n",
       "      <td>5.500000</td>\n",
       "      <td>0.0</td>\n",
       "    </tr>\n",
       "    <tr>\n",
       "      <th>50%</th>\n",
       "      <td>23.000000</td>\n",
       "      <td>27.000000</td>\n",
       "      <td>0.0</td>\n",
       "    </tr>\n",
       "    <tr>\n",
       "      <th>75%</th>\n",
       "      <td>55.000000</td>\n",
       "      <td>64.500000</td>\n",
       "      <td>0.0</td>\n",
       "    </tr>\n",
       "    <tr>\n",
       "      <th>max</th>\n",
       "      <td>197.000000</td>\n",
       "      <td>363.000000</td>\n",
       "      <td>0.0</td>\n",
       "    </tr>\n",
       "  </tbody>\n",
       "</table>\n",
       "</div>"
      ],
      "text/plain": [
       "       numComments       score  goldCount\n",
       "count    28.000000   28.000000       28.0\n",
       "mean     42.107143   51.892857        0.0\n",
       "std      52.607097   75.182415        0.0\n",
       "min       0.000000    0.000000        0.0\n",
       "25%       7.250000    5.500000        0.0\n",
       "50%      23.000000   27.000000        0.0\n",
       "75%      55.000000   64.500000        0.0\n",
       "max     197.000000  363.000000        0.0"
      ]
     },
     "execution_count": 21,
     "metadata": {},
     "output_type": "execute_result"
    }
   ],
   "source": [
    "ds_posts_df.describe()"
   ]
  },
  {
   "cell_type": "code",
   "execution_count": 24,
   "metadata": {},
   "outputs": [
    {
     "data": {
      "image/png": "[encoded data removed]",
      "text/plain": [
       "<Figure size 640x480 with 1 Axes>"
      ]
     },
     "metadata": {},
     "output_type": "display_data"
    }
   ],
   "source": [
    "plt.title('Data Science Posts Scores')\n",
    "plt.ylabel('Score')\n",
    "plt.xlabel('Posts')\n",
    "plt.tick_params(axis='both', which='both', labelbottom=False, bottom=False)\n",
    "\n",
    "x = ds_posts_df['id']\n",
    "y = ds_posts_df['score']\n",
    "plt.plot(x, y, \"o\", color=\"teal\")\n",
    "      \n",
    "plt.show()"
   ]
  },
  {
   "cell_type": "code",
   "execution_count": 26,
   "metadata": {},
   "outputs": [
    {
     "data": {
      "text/plain": [
       "<Axes: title={'center': 'Data Science Posts Number of Comments'}, xlabel='Number of Comments', ylabel='Count'>"
      ]
     },
     "execution_count": 26,
     "metadata": {},
     "output_type": "execute_result"
    },
    {
     "data": {
      "image/png": "[encoded data removed]",
      "text/plain": [
       "<Figure size 640x480 with 1 Axes>"
      ]
     },
     "metadata": {},
     "output_type": "display_data"
    }
   ],
   "source": [
    "plt.title('Data Science Posts Number of Comments')\n",
    "plt.ylabel('Count')\n",
    "plt.xlabel('Number of Comments')\n",
    "sns.histplot(data=ds_posts_df, x='numComments', bins=3,  kde=True, color='maroon' )"
   ]
  },
  {
   "cell_type": "code",
   "execution_count": 27,
   "metadata": {},
   "outputs": [
    {
     "data": {
      "text/plain": [
       "<Axes: title={'center': 'Data Science Posts Number of Comments and Score'}, xlabel='numComments', ylabel='Score'>"
      ]
     },
     "execution_count": 27,
     "metadata": {},
     "output_type": "execute_result"
    },
    {
     "data": {
      "image/png": "[encoded data removed]",
      "text/plain": [
       "<Figure size 640x480 with 1 Axes>"
      ]
     },
     "metadata": {},
     "output_type": "display_data"
    }
   ],
   "source": [
    "plt.title('Data Science Posts Number of Comments and Score')\n",
    "plt.ylabel('Score')\n",
    "plt.xlabel('numComments')\n",
    "sns.scatterplot(data=ds_posts_df,\n",
    "                x=\"numComments\",\n",
    "                y=\"score\",\n",
    "                )\n"
   ]
  },
  {
   "cell_type": "code",
   "execution_count": 30,
   "metadata": {},
   "outputs": [],
   "source": [
    "matrix = popular_posts_df[['numComments', 'score']].corr()"
   ]
  },
  {
   "cell_type": "code",
   "execution_count": 31,
   "metadata": {},
   "outputs": [
    {
     "data": {
      "text/html": [
       "<div>\n",
       "<style scoped>\n",
       "    .dataframe tbody tr th:only-of-type {\n",
       "        vertical-align: middle;\n",
       "    }\n",
       "\n",
       "    .dataframe tbody tr th {\n",
       "        vertical-align: top;\n",
       "    }\n",
       "\n",
       "    .dataframe thead th {\n",
       "        text-align: right;\n",
       "    }\n",
       "</style>\n",
       "<table border=\"1\" class=\"dataframe\">\n",
       "  <thead>\n",
       "    <tr style=\"text-align: right;\">\n",
       "      <th></th>\n",
       "      <th>numComments</th>\n",
       "      <th>score</th>\n",
       "    </tr>\n",
       "  </thead>\n",
       "  <tbody>\n",
       "    <tr>\n",
       "      <th>numComments</th>\n",
       "      <td>1.000000</td>\n",
       "      <td>0.516468</td>\n",
       "    </tr>\n",
       "    <tr>\n",
       "      <th>score</th>\n",
       "      <td>0.516468</td>\n",
       "      <td>1.000000</td>\n",
       "    </tr>\n",
       "  </tbody>\n",
       "</table>\n",
       "</div>"
      ],
      "text/plain": [
       "             numComments     score\n",
       "numComments     1.000000  0.516468\n",
       "score           0.516468  1.000000"
      ]
     },
     "execution_count": 31,
     "metadata": {},
     "output_type": "execute_result"
    }
   ],
   "source": [
    "# There is no corelation with comment numbers and score\n",
    "matrix"
   ]
  },
  {
   "cell_type": "code",
   "execution_count": 33,
   "metadata": {},
   "outputs": [
    {
     "data": {
      "text/plain": [
       "<Axes: >"
      ]
     },
     "execution_count": 33,
     "metadata": {},
     "output_type": "execute_result"
    },
    {
     "data": {
      "image/png": "[encoded data removed]",
      "text/plain": [
       "<Figure size 640x480 with 2 Axes>"
      ]
     },
     "metadata": {},
     "output_type": "display_data"
    }
   ],
   "source": [
    "sns.heatmap(matrix, \n",
    "            xticklabels=matrix.columns.values,\n",
    "            yticklabels=matrix.columns.values)"
   ]
  }
 ],
 "metadata": {
  "kernelspec": {
   "display_name": "Python 3",
   "language": "python",
   "name": "python3"
  },
  "language_info": {
   "codemirror_mode": {
    "name": "ipython",
    "version": 3
   },
   "file_extension": ".py",
   "mimetype": "text/x-python",
   "name": "python",
   "nbconvert_exporter": "python",
   "pygments_lexer": "ipython3",
   "version": "3.10.13"
  }
 },
 "nbformat": 4,
 "nbformat_minor": 2
}
